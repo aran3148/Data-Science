{
 "cells": [
  {
   "cell_type": "markdown",
   "metadata": {},
   "source": [
    "<a id='top'></a>\n",
    "\n",
    "# CSCI3022 S21\n",
    "# Homework 1: Measures of Centrality and Dispersion\n",
    "***\n",
    "\n",
    "**Name**: Ara Anner\n",
    "\n",
    "***\n",
    "\n",
    "This assignment is due on Canvas by **MIDNIGHT on Monday, February 1**. Your solutions to theoretical questions should be done in Markdown directly below the associated question.  Your solutions to computational questions should include any specified Python code and results as well as written commentary on your conclusions.  Remember that you are encouraged to discuss the problems with your classmates, but **you must write all code and solutions on your own**.\n",
    "\n",
    "**NOTES**: \n",
    "\n",
    "- Any relevant data sets should be available on Canvas. To make life easier on the graders if they need to run your code, do not change the relative path names here. Instead, move the files around on your computer.\n",
    "- If you're not familiar with typesetting math directly into Markdown then by all means, do your work on paper first and then typeset it later.  Here is a [reference guide](https://math.meta.stackexchange.com/questions/5020/mathjax-basic-tutorial-and-quick-reference) linked on Canvas on writing math in Markdown. **All** of your written commentary, justifications and mathematical work should be in Markdown.  I also recommend the [wikibook](https://en.wikibooks.org/wiki/LaTeX) for LaTex.\n",
    "- Because you can technically evaluate notebook cells is a non-linear order, it's a good idea to do **Kernel $\\rightarrow$ Restart & Run All** as a check before submitting your solutions.  That way if we need to run your code you will know that it will work as expected. \n",
    "- It is **bad form** to make your reader interpret numerical output from your code.  If a question asks you to compute some value from the data you should show your code output **AND** write a summary of the results in Markdown directly below your code. \n",
    "- 95 points of this assignment are in problems.  The remaining 5 are for neatness, style, and overall exposition of both code and text.\n",
    "- This probably goes without saying, but... For any question that asks you to calculate something, you **must show all work and justify your answers to receive credit**. Sparse or nonexistent work will receive sparse or nonexistent credit. \n",
    "\n",
    "---\n",
    "**Shortcuts:**  [Problem 1](#p1) | [Problem 2](#p2) | [Problem 3](#p3) |\n",
    "---"
   ]
  },
  {
   "cell_type": "code",
   "execution_count": 1,
   "metadata": {},
   "outputs": [],
   "source": [
    "import pandas as pd\n",
    "import numpy as np\n",
    "import matplotlib.pylab as plt\n",
    "%matplotlib inline"
   ]
  },
  {
   "cell_type": "markdown",
   "metadata": {},
   "source": [
    "[Back to top](#top)\n",
    "\n",
    "<br>\n",
    "\n",
    "<a/ id='p1'></a>\n",
    "\n",
    "### (15 points) Problem 1: Theory and Computation (Means and Medians)\n",
    "***\n",
    "\n",
    "A method to investigate the sensitivity of the sample mean and sample median to extreme outliers and changes in the dataset is to replace one or more elements in a given dataset by a number $y$ and investigate the effect when $y$ changes. To illustrate this, consider the following dataset:\n",
    " \n",
    "$$  12.2 \\quad -5.0 \\quad 1.0 \\quad 3.8 \\quad -4.1 \\quad 5.9 \\quad 1.9 \\quad 9.0 \\quad y$$\n",
    "\n",
    "\n"
   ]
  },
  {
   "cell_type": "markdown",
   "metadata": {},
   "source": [
    "**Part A:** Compute the sample mean and sample median for $y=3.5$. Then compute both quantities again for $y=6$."
   ]
  },
  {
   "cell_type": "code",
   "execution_count": 2,
   "metadata": {},
   "outputs": [
    {
     "name": "stdout",
     "output_type": "stream",
     "text": [
      "Sample mean when y = 3.5 --> 3.1333333333333337\n",
      "Sample median when y = 3.5 --> 3.5\n",
      "Sample mean when y = 6 --> 3.4111111111111114\n",
      "Sample median when y = 6 --> 3.8\n"
     ]
    }
   ],
   "source": [
    "data_set_1 = np.array([12.2, -5.0, 1.0, 3.8, -4.1, 5.9, 1.9, 9.0, 3.5])\n",
    "data_set_2 = np.array([12.2, -5.0, 1.0, 3.8, -4.1, 5.9, 1.9, 9.0, 6.0])\n",
    "\n",
    "print(\"Sample mean when y = 3.5 --> \" + str(data_set_1.mean()))\n",
    "print(\"Sample median when y = 3.5 --> \" + str(np.median(data_set_1)))\n",
    "print(\"Sample mean when y = 6 --> \" + str(data_set_2.mean()))\n",
    "print(\"Sample median when y = 6 --> \" + str(np.median(data_set_2)))\n"
   ]
  },
  {
   "cell_type": "markdown",
   "metadata": {},
   "source": [
    "**Part B:** Is there a value for $y$ that would make the mean of the data equal to 6? If so, calculate the value of $y$ that makes the mean equal to 6. If not, clearly explain why not.\n",
    "    \n",
    "There would be. Set this up as: \n",
    "\n",
    "(12.2 - 5.0 + 1.0 + 3.8 - 4.1 + 5.9 + 1.9 + 9 + y) / 9 = 6\n",
    "\n",
    "(24.7 + y) / 9 = 6\n",
    "\n",
    "24.7 + y = 54\n",
    "\n",
    "y = 29.3"
   ]
  },
  {
   "cell_type": "markdown",
   "metadata": {},
   "source": [
    "**Part C**: Compute the sample variance and the sample standard deviation for the original dataset given in part A, with $y=6$."
   ]
  },
  {
   "cell_type": "code",
   "execution_count": 3,
   "metadata": {},
   "outputs": [
    {
     "name": "stdout",
     "output_type": "stream",
     "text": [
      "Sample variance when y = 6 --> 32.09861111111111\n",
      "Sample deviation when y = 6 --> 5.665563618132896\n"
     ]
    }
   ],
   "source": [
    "# We got our mean from the code in part A, so instead of solving for it again, I'm just going to hardcode it.\n",
    "\n",
    "mean_value = 3.4111111111111114\n",
    "\n",
    "variance = 0\n",
    "\n",
    "for i in data_set_2:\n",
    "    variance += pow(i - mean_value, 2)\n",
    "\n",
    "variance = variance / (len(data_set_2) - 1)\n",
    "\n",
    "print(\"Sample variance when y = 6 --> \" + str(variance))\n",
    "\n",
    "deviation = pow(variance, 0.5)\n",
    "\n",
    "print(\"Sample deviation when y = 6 --> \" + str(deviation))"
   ]
  },
  {
   "cell_type": "markdown",
   "metadata": {},
   "source": [
    "**Part D**: Compute both the sample mean and median for the following cases: \n",
    "- $y=9$ \n",
    "- $y=50$ \n",
    "- $y=4.36$ \n",
    "- $y \\to \\infty$ \n",
    "- $y \\to -\\infty$"
   ]
  },
  {
   "cell_type": "code",
   "execution_count": 4,
   "metadata": {},
   "outputs": [
    {
     "name": "stdout",
     "output_type": "stream",
     "text": [
      "Sample mean when y = 9 --> 3.744444444444445\n",
      "Sample median when y = 9 --> 3.8\n",
      "Sample mean when y = 50 --> 8.3\n",
      "Sample median when y = 50 --> 3.8\n",
      "Sample mean when y = 4.36 --> 3.228888888888889\n",
      "Sample median when y = 4.36 --> 3.8\n",
      "Sample mean when y = infinity --> inf\n",
      "Sample median when y = infinity --> 3.8\n",
      "Sample mean when y = -infinity --> -inf\n",
      "Sample median when y = -infinity --> 1.9\n"
     ]
    }
   ],
   "source": [
    "data_set_3 = np.array([12.2, -5.0, 1.0, 3.8, -4.1, 5.9, 1.9, 9.0, 9.0])\n",
    "\n",
    "print(\"Sample mean when y = 9 --> \" + str(data_set_3.mean()))\n",
    "print(\"Sample median when y = 9 --> \" + str(np.median(data_set_3)))\n",
    "\n",
    "data_set_3[8] = 50.0\n",
    "\n",
    "print(\"Sample mean when y = 50 --> \" + str(data_set_3.mean()))\n",
    "print(\"Sample median when y = 50 --> \" + str(np.median(data_set_3)))\n",
    "\n",
    "data_set_3[8] = 4.36\n",
    "\n",
    "print(\"Sample mean when y = 4.36 --> \" + str(data_set_3.mean()))\n",
    "print(\"Sample median when y = 4.36 --> \" + str(np.median(data_set_3)))\n",
    "\n",
    "data_set_3[8] = float('inf')\n",
    "\n",
    "print(\"Sample mean when y = infinity --> \" + str(data_set_3.mean()))\n",
    "print(\"Sample median when y = infinity --> \" + str(np.median(data_set_3)))\n",
    "\n",
    "data_set_3[8] = float('-inf')\n",
    "\n",
    "print(\"Sample mean when y = -infinity --> \" + str(data_set_3.mean()))\n",
    "print(\"Sample median when y = -infinity --> \" + str(np.median(data_set_3)))"
   ]
  },
  {
   "cell_type": "markdown",
   "metadata": {},
   "source": [
    "**Part E**: Think about the previous parts, above, and describe in words or mathematical notation the answers to the following two questions:\n",
    "\n",
    "- By varying $y$, what is the set of all the possible values that the sample mean could take on?\n",
    "- By varying $y$, what is the set of all the possible values that the sample median could take on? Specifically, for what sets of $y$ values does the median take on its different possible values?"
   ]
  },
  {
   "cell_type": "markdown",
   "metadata": {},
   "source": [
    "The **mean** can take on any real number value, so long as y is big or small enough. Going back to part B, we can set up: \n",
    "\n",
    "(24.7 + y) / 9 = x\n",
    "\n",
    "where $x$ is any real number we want it to be, and it would still work.\n",
    "\n",
    "For the **median**, the number can only be 3.8, 1.9, or $y$.\n",
    "\n",
    "-5.0, -4.1, 1.0, 1.9, 3.8, 5.9, 9.0, 12.2\n",
    "\n",
    "Taking the median of the dataset gets us (1.9 + 3.8)/2, since it's a dataset of even numbers, meaning 1.9 and 3.8 are in the middle. With the addition of $y$, we can add a number either at the beginning, the end, or one in the middle. If we add a number in between 1.9 and 3.8, then obviously that number will be the median. If 3.8 $\\geq$ y, then the median will be skewed in terms of the bigger number of the two, and it will be 3.8. If y $\\leq$ 1.9, then the median will be skewed to the smaller number, and it will be 1.9."
   ]
  },
  {
   "cell_type": "markdown",
   "metadata": {},
   "source": [
    "**Part F**: Describe in words or mathematical notation, what happens to the sample standard deviation when $y$ is varied in the following ways: \n",
    " \n",
    "- $y \\to \\infty$ \n",
    "- $y \\to \\bar{x}$"
   ]
  },
  {
   "cell_type": "markdown",
   "metadata": {},
   "source": [
    "**For infinity,**\n",
    "Since your mean is infinity, and for the variance you would get mostly values of negative infinity (actual integer - $\\infty = -\\infty$, with the exception of the case where you'd have $\\infty - \\infty$, which is 0), and then squaring those values which gets $\\infty$ / 8, which is still infinity. When you square root this, you'd still get infinity as well. The variance would be infinity, and thus the deviation would also be infinity.\n",
    "\n",
    "**For $\\bar{x}$,**\n",
    "Using part B again, we can determine (24.7 + y) / 9 = y, which is 24.7 + y = 9y, or 3.0875 = y. This should calculate normally, and you'd get a standard diviation of about 5.6."
   ]
  },
  {
   "cell_type": "markdown",
   "metadata": {},
   "source": [
    "[Back to top](#top)\n",
    "<a/ id='p2'></a>\n",
    "\n",
    "## (15 pts) Problem 2: Theory and Computation (Scaling)\n",
    "***\n",
    "Consider the following 3 data sets:\n",
    "\n",
    "`A=[0,1,2,3,4,5,6,7,8,9,10,11,12]`\n",
    "\n",
    "`B=[0,0,0,12,7,18,47,25,0,13,0,35]`\n",
    "\n",
    "`C` is the random data set generated by using `np.random.exponential(scale=43, size=1000)`\n",
    "\n",
    "For each data set, perform the following computations in parts A, B, and C:\n",
    "\n",
    "**Part A:** Compute and print the mean and standard deviation of the data set."
   ]
  },
  {
   "cell_type": "code",
   "execution_count": 5,
   "metadata": {},
   "outputs": [
    {
     "name": "stdout",
     "output_type": "stream",
     "text": [
      "The mean for data set A is 6.0\n",
      "The mean for data set B is 13.083333333333334\n",
      "The mean for data set C is 44.67978878267778\n",
      "Sample deviation for data set A: 3.8944404818493075\n",
      "Sample deviation for data set B: 15.64061341120571\n",
      "Sample deviation for data set C: 45.58954899042976\n"
     ]
    }
   ],
   "source": [
    "A = np.array([0,1,2,3,4,5,6,7,8,9,10,11,12], dtype=float)\n",
    "B = np.array([0,0,0,12,7,18,47,25,0,13,0,35], dtype=float)\n",
    "C = np.random.exponential(scale=43, size=1000)\n",
    "\n",
    "print(\"The mean for data set A is \" + str(A.mean()))\n",
    "print(\"The mean for data set B is \" + str(B.mean()))\n",
    "print(\"The mean for data set C is \" + str(C.mean()))\n",
    "\n",
    "# Borrowed variance code from earlier\n",
    "\n",
    "def variance_solver(mean_value, data_set, data_set_name):\n",
    "    \n",
    "    variance = 0\n",
    "    \n",
    "    for j in data_set:\n",
    "        variance += pow(j - mean_value, 2)\n",
    "    \n",
    "    variance = variance / (len(data_set) - 1)\n",
    "\n",
    "    #print(\"Sample variance for data set \" + data_set_name + \": \" + str(variance))\n",
    "\n",
    "    deviation = pow(variance, 0.5)\n",
    "\n",
    "    print(\"Sample deviation for data set \" + data_set_name + \": \" + str(deviation)) \n",
    "\n",
    "# End function declaration\n",
    "\n",
    "variance_solver(A.mean(), A, \"A\")\n",
    "variance_solver(B.mean(), B, \"B\")\n",
    "variance_solver(C.mean(), C, \"C\")"
   ]
  },
  {
   "cell_type": "markdown",
   "metadata": {},
   "source": [
    "**Part B:** Compute and print  the mean and standard deviation of the new data set formed by subtracting the original mean from each observation."
   ]
  },
  {
   "cell_type": "code",
   "execution_count": 6,
   "metadata": {},
   "outputs": [
    {
     "name": "stdout",
     "output_type": "stream",
     "text": [
      "The mean for data set A is 0.0\n",
      "The mean for data set B is -1.1842378929335002e-15\n",
      "The mean for data set C is -4.206412995699793e-15\n",
      "Sample deviation for data set A: 3.8944404818493075\n",
      "Sample deviation for data set B: 15.64061341120571\n",
      "Sample deviation for data set C: 45.589548990429755\n"
     ]
    }
   ],
   "source": [
    "def new_mean(old_mean, data_set):\n",
    "    for i in range(0, len(data_set)):\n",
    "        data_set[i] = float(float(data_set[i]) - float(old_mean))\n",
    "    return data_set\n",
    "\n",
    "A = new_mean(A.mean(), A)\n",
    "B = new_mean(B.mean(), B)\n",
    "C = new_mean(C.mean(), C)\n",
    "\n",
    "print(\"The mean for data set A is \" + str(A.mean()))\n",
    "print(\"The mean for data set B is \" + str(B.mean()))\n",
    "print(\"The mean for data set C is \" + str(C.mean()))\n",
    "\n",
    "variance_solver(A.mean(), A, \"A\")\n",
    "variance_solver(B.mean(), B, \"B\")\n",
    "variance_solver(C.mean(), C, \"C\")"
   ]
  },
  {
   "cell_type": "markdown",
   "metadata": {},
   "source": [
    "**Part C:** Compute and print  the mean and standard deviation of the new data set formed by subtracting the original mean from each observation and then dividing by the original standard deviation."
   ]
  },
  {
   "cell_type": "code",
   "execution_count": 7,
   "metadata": {},
   "outputs": [
    {
     "name": "stdout",
     "output_type": "stream",
     "text": [
      "The mean for data set A is 0.0\n",
      "The mean for data set B is 2.9605947323337506e-16\n",
      "The mean for data set C is 0.0\n",
      "Sample deviation for data set A: 3.8944404818493075\n",
      "Sample deviation for data set B: 15.64061341120571\n",
      "Sample deviation for data set C: 45.589548990429755\n"
     ]
    }
   ],
   "source": [
    "A = new_mean(A.mean(), A)\n",
    "B = new_mean(B.mean(), B)\n",
    "C = new_mean(C.mean(), C)\n",
    "\n",
    "print(\"The mean for data set A is \" + str(A.mean()))\n",
    "print(\"The mean for data set B is \" + str(B.mean()))\n",
    "print(\"The mean for data set C is \" + str(C.mean()))\n",
    "\n",
    "variance_solver(A.mean(), A, \"A\")\n",
    "variance_solver(B.mean(), B, \"B\")\n",
    "variance_solver(C.mean(), C, \"C\")"
   ]
  },
  {
   "cell_type": "markdown",
   "metadata": {},
   "source": [
    "**Part D:** Why might this result matter?"
   ]
  },
  {
   "cell_type": "markdown",
   "metadata": {},
   "source": [
    "While the mean varies from dataset (though it does zero in on a number, typically zero), the sample deviation remains the same when we adjust the mean. This is helpful for situation where you're manipulating data to do other calculations."
   ]
  },
  {
   "cell_type": "markdown",
   "metadata": {},
   "source": [
    "**Part E:** Looking at each of the 3 data sets, come up with a real-world context where those spectrum of numbers might make for reasonable observations."
   ]
  },
  {
   "cell_type": "markdown",
   "metadata": {},
   "source": [
    "**For dataset A,**\n",
    "How many year old is a person's dog.\n",
    "\n",
    "**For dataset B,**\n",
    "Hours spent driving over a two-week period (some people have to drive long distances daily, others rely on public transport or carpools).\n",
    "\n",
    "**For dataset C,**\n",
    "How many days certain places see temperatures over 60 degrees (the dataset has numbers in long decimals, so it could be that it was recorded in exact times and then converted later to days), as some places remain at pretty steady low temperatures but others are consistently hot."
   ]
  },
  {
   "cell_type": "markdown",
   "metadata": {},
   "source": [
    "**Part F:** Let's prove a generalization of the result you likely observed in part B.  What happens if you take data set and \"recenter\" it by adding or subtracting the same number $c$ to each and every observation?\n",
    "\n",
    "In other words, show that the mean of the data set $Y$ given by $Y_i=X_i+c$ is $\\bar{Y}=\\bar{X}+c$.\n",
    "\n",
    "(**Hint**: start with the definition of the mean: $$\\bar{Y}=\\frac{\\sum_{i=1}^n Y_i}{n},$$ then work with the right hand side!)"
   ]
  },
  {
   "cell_type": "markdown",
   "metadata": {},
   "source": [
    "We start with $$\\bar{Y}=\\frac{\\sum_{i=1}^n Y_i}{n}$$ and note that $Y_i=X_i+c$, so we substitute the value on the right-hand side, giving us,\n",
    "$$\\bar{Y}=\\frac{\\sum_{i=1}^n X_i+c}{n}$$\n",
    "\n",
    "We know that we can split up the addends in the sum, and that $\\frac{\\sum_{i=1}^n c}{n} = cn$, so we have\n",
    "$$\\bar{Y}=\\frac{\\sum_{i=1}^n X_i}{n} + \\frac{cn}{n}$$\n",
    "\n",
    "We know that the first fraction on the right is the mean of the $X$ dataset, since it's all the numbers of the $X$ dataset added together over the amount of items in the dataset. Also, $\\frac{cn}{n}$ can be simplified, so the next step is\n",
    "\n",
    "$$\\bar{Y} = \\bar{X} + c$$\n",
    "\n",
    ", which holds true from the second of the equations given earlier. When recentering the mean by some value c, the mean will be the mean + that number."
   ]
  },
  {
   "cell_type": "markdown",
   "metadata": {},
   "source": [
    "[Back to top](#top)\n",
    "<a/ id='p3'></a>\n",
    "\n",
    "## (15 pts) Problem 3: Computation (Streaming Means)\n",
    "***\n",
    "\n",
    "Data science is often divided into two categories: questions of *what* the best value might be to repreesnt a data problem, and questions of *how* to compute that data value.  Question 1 - and prior lectures - should tell you that computing the mean is valuable!  But *how* do we compute the mean?\n",
    "\n",
    "Let $x_1, x_2, \\ldots, x_n$ be $n$ observations of a variable of interest.  Recall that the sample mean $\\bar{x}_n$ and sample variance $s^2_n$ are given by \n",
    "<a id='eq1'></a>\n",
    "$$\n",
    "\\bar{x}_n = \\frac{1}{n}\\sum_{k=1}^n x_k \\quad \\textrm{and} \\quad s^2_n = \\frac{1}{n-1}\\sum_{k=1}^n \\left( x_k - \\bar{x}_n\\right)^2 \\qquad \\tag{Equation 1}\n",
    "$$"
   ]
  },
  {
   "cell_type": "markdown",
   "metadata": {},
   "source": [
    "**Part A**:\n",
    "\n",
    "How many computations - floating point operations: addition, subtraction, multiplication, division each count as 1 operation - are required to compute the mean of the data set with $n$ observations?\n"
   ]
  },
  {
   "cell_type": "markdown",
   "metadata": {},
   "source": [
    "To computer a mean, you need to add all n numbers together, which is n - 1 operations (for example, 9 numbers means you do 8 additions), and you do one additional operators for division, meaning in total you do n operations."
   ]
  },
  {
   "cell_type": "markdown",
   "metadata": {},
   "source": [
    "**Part B**:\n",
    "\n",
    "Now suppose our data is *streaming*- we slowly add observations one at a time, instead of seeing the entire data set at once.  We are still interested in the mean, so if we stream the data set `[4,6,0,10, ...]`, we first compute the mean of the the first data point `[4]`, then we recompute the mean of the first two points `[4,6]`, then we recompute the mean of three `[4,6,0]`, and so forth.\n",
    "\n",
    "Suppose we recompute the mean from scratch after each and every one of our $n$ observations are one-by-one added to our data set.  How many floating point operations are spent computing (and re-computing) the mean of the data set?"
   ]
  },
  {
   "cell_type": "markdown",
   "metadata": {},
   "source": [
    "To derive a formula, we'll take for example a list of 3.\n",
    "\n",
    "For the first number, we only need one operation (division).\n",
    "\n",
    "For the second number, we have two operations (one addition, one division).\n",
    "\n",
    "For the third number, we have three operations (two additions, one division).\n",
    "\n",
    "This means our total is 5. This is 2n - 1 operations, which we can see holds up if we cut off a step (for example, two numbers would only require 3 operations, one number requires 1 operation, and so on)."
   ]
  },
  {
   "cell_type": "markdown",
   "metadata": {},
   "source": [
    "We should be convinced that streaming a mean costs a lot more computer time than just computing once!\n",
    "\n",
    "In this problem we explore a smarter method for such an _online_ computation of the mean.  \n",
    "\n",
    "**Result**: The following relation holds between the mean of the first $n-1$ observations and the mean of all $n$ observations: \n",
    "\n",
    "$$\n",
    "\\bar{x}_n = \\bar{x}_{n-1} + \\frac{x_n - \\bar{x}_{n-1}}{n}\n",
    "$$\n",
    "\n",
    "\n",
    "A proof of this result is in the [Appendix](#Appendix) after this problem, and requires some careful manipulations of the sum $\\bar{x}_n$.  Your task will be to computationally verify and utilize this result.\n",
    "\n",
    "**Part C**: Write a function `my_sample_mean` that takes as its input a numpy array and returns the mean of that numpy array using the formulas from class ([Equation 1](#eq1)). Write another function `my_sample_var` that takes as its input a numpy array and returns the variance of that numpy array, again using the formulas from class ([Equation 1](#eq1)). You may **not** use any built-in sample mean or variance functions."
   ]
  },
  {
   "cell_type": "code",
   "execution_count": 8,
   "metadata": {},
   "outputs": [],
   "source": [
    "def my_sample_mean(np_array):\n",
    "    # Using the one from class that was the sum from i = 1 to n of x_1 all divided by n\n",
    "    \n",
    "    accum = 0\n",
    "    \n",
    "    for i in range(0, len(np_array)):\n",
    "        accum += np_array[i]\n",
    "    \n",
    "    return (accum / len(np_array))\n",
    "\n",
    "def my_sample_var(np_array):\n",
    "    \n",
    "    mean_value = my_sample_mean(np_array)\n",
    "    \n",
    "    # This part of the code is borrowed from variance_solver from earlier.\n",
    "    \n",
    "    variance = 0\n",
    "    \n",
    "    for j in np_array:\n",
    "        variance += pow(j - mean_value, 2)\n",
    "    \n",
    "    variance = variance / (len(np_array) - 1)\n",
    "    \n",
    "    return variance\n",
    "\n",
    "    "
   ]
  },
  {
   "cell_type": "markdown",
   "metadata": {},
   "source": [
    "**Part D**: Use your functions from Part C to compute the sample mean and sample variance of the following array, which contains the minutes late that the BuffBus is running on Friday afternoon.\n",
    "\n",
    "`bus = [312, 4, 10, 0, 22, 39, 81, 19, 8, 60, 80, 42]`"
   ]
  },
  {
   "cell_type": "code",
   "execution_count": 9,
   "metadata": {},
   "outputs": [
    {
     "name": "stdout",
     "output_type": "stream",
     "text": [
      "Sample mean = 56.416666666666664\n",
      "Sample variance = 7274.628787878787\n"
     ]
    }
   ],
   "source": [
    "#Your code here\n",
    "\n",
    "bus = [312, 4, 10, 0, 22, 39, 81, 19, 8, 60, 80, 42]\n",
    "\n",
    "print(\"Sample mean = \" + str(my_sample_mean(bus)))\n",
    "\n",
    "print(\"Sample variance = \" + str(my_sample_var(bus)))"
   ]
  },
  {
   "cell_type": "markdown",
   "metadata": {},
   "source": [
    "**Part E**: Implement a third function called `update_mean` that implements the formula discussed after part B. Note that this function will need to take as its input three things: $x_n$, $\\bar{x}_{n-1}$ and $n$, and returns $\\bar{x}_{n}$. A function header and return statement are provided for you. This function may be auto-graded, so please do not change the given header API - the order of inputs matters! If you change it, you might lose points.\n",
    "\n",
    "Use this function to compute the values that you get from taking the mean of the first buff buses' lateness, the first two buff buses' lateness, the first three buff buses' lateness, and so on up to all of the `bus` data points from **Part D**. Store your streaming bus means in a numpy array called `buffbus_bad_means`.  Report all 12 estimates in `buffbus_bad_means`."
   ]
  },
  {
   "cell_type": "code",
   "execution_count": 10,
   "metadata": {},
   "outputs": [
    {
     "name": "stdout",
     "output_type": "stream",
     "text": [
      "Current mean (1 element(s) calculated): 312.0\n",
      "Current mean (2 element(s) calculated): 158.0\n",
      "Current mean (3 element(s) calculated): 108.66666666666666\n",
      "Current mean (4 element(s) calculated): 81.5\n",
      "Current mean (5 element(s) calculated): 69.6\n",
      "Current mean (6 element(s) calculated): 64.5\n",
      "Current mean (7 element(s) calculated): 66.85714285714286\n",
      "Current mean (8 element(s) calculated): 60.875\n",
      "Current mean (9 element(s) calculated): 55.0\n",
      "Current mean (10 element(s) calculated): 55.5\n",
      "Current mean (11 element(s) calculated): 57.72727272727273\n",
      "Current mean (12 element(s) calculated): 56.416666666666664\n"
     ]
    }
   ],
   "source": [
    "# Given API:\n",
    "def update_mean(prev_mean, xn, n):\n",
    "    #Your code here to compute updates\n",
    "    \n",
    "    now_mean = prev_mean + (xn - prev_mean)/n\n",
    "    \n",
    "    return now_mean\n",
    "\n",
    "buffbus_bad_means = np.array([312, 4, 10, 0, 22, 39, 81, 19, 8, 60, 80, 42])\n",
    "\n",
    "prev_mean = 0\n",
    "\n",
    "for i in range(0, len(buffbus_bad_means)):\n",
    "    \n",
    "    mean_holder_value = update_mean(prev_mean, buffbus_bad_means[i], i + 1)\n",
    "    \n",
    "    print(\"Current mean (\" + str(i + 1) + \" element(s) calculated): \" + str(mean_holder_value))\n",
    "    \n",
    "    prev_mean = mean_holder_value\n",
    "    \n",
    "\n",
    "#Your code here (to loop over the full data)"
   ]
  },
  {
   "cell_type": "markdown",
   "metadata": {},
   "source": [
    "<a id='Appendix'></a>\n",
    "\n",
    "## Appendix \n",
    "\n",
    "*Goal*: Prove that \n",
    "$$\n",
    "\\bar{x}_n = \\bar{x}_{n-1} + \\frac{x_n - \\bar{x}_{n-1}}{n}\n",
    "$$\n",
    "\n",
    "Note that you can get an expression for $\\bar{x}_{n-1}$ by simply replacing $n$ in Equation 1 above with $n-1$.\n",
    "\n",
    "We'll start with $\\bar{x}_n$ and massage it until we get the righthand side of the formula\n",
    "\n",
    "\\begin{eqnarray}\n",
    "\\nonumber \\bar{x}_n &=& \\frac{1}{n} \\sum_{k=1}^n x_k \\\\\n",
    "&=& \\frac{1}{n} \\sum_{k=1}^{n-1} x_k + \\frac{1}{n}x_n \\\\\n",
    "&=& \\frac{n-1}{n-1}\\frac{1}{n} \\sum_{k=1}^{n-1} x_k + \\frac{1}{n}x_n \\\\\n",
    "&=& \\frac{n-1}{n} \\left(\\frac{1}{n-1} \\sum_{k=1}^{n-1} x_k\\right) + \\frac{1}{n}x_n \\\\\n",
    "&=& \\frac{n-1}{n} \\bar{x}_{n-1} + \\frac{1}{n}x_n \\\\\n",
    "&=& \\frac{n}{n}\\bar{x}_{n-1} - \\frac{1}{n}\\bar{x}_{n-1} + \\frac{1}{n}x_n \\\\\n",
    "&=&  \\bar{x}_{n-1} + \\frac{x_n - \\bar{x}_{n-1}}{n} \\quad \\checkmark\n",
    "\\end{eqnarray}\n",
    "\n"
   ]
  }
 ],
 "metadata": {
  "kernelspec": {
   "display_name": "Python 3",
   "language": "python",
   "name": "python3"
  },
  "language_info": {
   "codemirror_mode": {
    "name": "ipython",
    "version": 3
   },
   "file_extension": ".py",
   "mimetype": "text/x-python",
   "name": "python",
   "nbconvert_exporter": "python",
   "pygments_lexer": "ipython3",
   "version": "3.8.6"
  }
 },
 "nbformat": 4,
 "nbformat_minor": 4
}
