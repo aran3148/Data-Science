{
 "cells": [
  {
   "cell_type": "markdown",
   "metadata": {},
   "source": [
    "<a id='top'></a>\n",
    "\n",
    "# CSCI3022 S21\n",
    "# Homework 4: Using Random Variables\n",
    "***\n",
    "\n",
    "**Name**: Ara Anner\n",
    "\n",
    "***\n",
    "\n",
    "This assignment is due on Canvas by **MIDNIGHT on Monday, March 1**. Your solutions to theoretical questions should be done in Markdown directly below the associated question.  Your solutions to computational questions should include any specified Python code and results as well as written commentary on your conclusions.  Remember that you are encouraged to discuss the problems with your classmates, but **you must write all code and solutions on your own**.\n",
    "\n",
    "**NOTES**: \n",
    "\n",
    "- Any relevant data sets should be available on Canvas. To make life easier on the graders if they need to run your code, do not change the relative path names here. Instead, move the files around on your computer.\n",
    "- If you're not familiar with typesetting math directly into Markdown then by all means, do your work on paper first and then typeset it later.  Here is a [reference guide](https://math.meta.stackexchange.com/questions/5020/mathjax-basic-tutorial-and-quick-reference) linked on Canvas on writing math in Markdown. **All** of your written commentary, justifications and mathematical work should be in Markdown.  I also recommend the [wikibook](https://en.wikibooks.org/wiki/LaTeX) for LaTex.\n",
    "- Because you can technically evaluate notebook cells is a non-linear order, it's a good idea to do **Kernel $\\rightarrow$ Restart & Run All** as a check before submitting your solutions.  That way if we need to run your code you will know that it will work as expected. \n",
    "- It is **bad form** to make your reader interpret numerical output from your code.  If a question asks you to compute some value from the data you should show your code output **AND** write a summary of the results in Markdown directly below your code. \n",
    "- 95 points of this assignment are in problems.  The remaining 5 are for neatness, style, and overall exposition of both code and text.\n",
    "- This probably goes without saying, but... For any question that asks you to calculate something, you **must show all work and justify your answers to receive credit**. Sparse or nonexistent work will receive sparse or nonexistent credit. \n",
    "\n",
    "---\n",
    "**Shortcuts:**  [Problem 1](#p1) | [Problem 2](#p2) | [Problem 3](#p3) |\n",
    "---"
   ]
  },
  {
   "cell_type": "code",
   "execution_count": 1,
   "metadata": {},
   "outputs": [],
   "source": [
    "import pandas as pd\n",
    "import numpy as np\n",
    "import matplotlib.pylab as plt\n",
    "import scipy.stats as stats\n",
    "import math\n",
    "%matplotlib inline"
   ]
  },
  {
   "cell_type": "markdown",
   "metadata": {},
   "source": [
    "[Back to top](#top)\n",
    "\n",
    "<a id='p1'></a>\n",
    "\n",
    "## (25 pts) Problem 1 (Theory): Working with Distributions\n",
    "***\n",
    "\n",
    "One takeaway from our exercise on homework 1 might be the statement that \"Boulder has storm that generates over 12 inches of rain **once per 100 years**.\"  Let's explore what that probability statement might imply!\n",
    "\n",
    "**Part A**: Suppose that attempt to *count* occurrences of \"massive rainfall\" with a Poisson process.  For a *fixed* interval of 100 years, we would assert that the rate $\\lambda$ of massive rainfalls is $\\lambda = 1 \\frac{heavy\\, rain}{100 \\, yr \\, interval.}$\n",
    "\n",
    "Using `stats.poisson` and the related functions, print a list of the probabilities of observing exactly $k$ such storms in a 100-year interval for $k=0,1,2,\\dots 10$. "
   ]
  },
  {
   "cell_type": "code",
   "execution_count": 2,
   "metadata": {},
   "outputs": [
    {
     "name": "stdout",
     "output_type": "stream",
     "text": [
      "0.36787944117144233\n",
      "0.36787944117144233\n",
      "0.18393972058572114\n",
      "0.06131324019524039\n",
      "0.015328310048810101\n",
      "0.00306566200976202\n",
      "0.0005109436682936698\n",
      "7.299195261338139e-05\n",
      "9.123994076672672e-06\n",
      "1.013777119630298e-06\n",
      "1.0137771196302985e-07\n"
     ]
    }
   ],
   "source": [
    "# poisson rvs args\n",
    "    # mu = 1\n",
    "    # loc = 0 (we start at 0)\n",
    "    # size = 10 (we end at 10)\n",
    "    \n",
    "\n",
    "\n",
    "k = [0, 1, 2, 3, 4, 5, 6, 7, 8, 9, 10]\n",
    "mu = 1\n",
    "loc = 0\n",
    "\n",
    "poisson_1 = stats.poisson.pmf(k, mu, loc)  \n",
    "\n",
    "for i in poisson_1:\n",
    "    print(i)\n"
   ]
  },
  {
   "cell_type": "markdown",
   "metadata": {},
   "source": [
    "**Part B**: We could instead consider describing the process of \"each year is independently and identically likely to contain a heavy storm with probability $1/100$.\"  This would suggest a different random variable to count the number of heavy storms in a 100 year period.  Which one?\n",
    "\n",
    "Using the appropriate random variable and its implementation in `scipy.stats`, again print a list of the probabilities of observing exactly $k$ storms in a 100-year interval (again, do all of $k=0,1,2,\\dots 10$)."
   ]
  },
  {
   "cell_type": "code",
   "execution_count": 3,
   "metadata": {},
   "outputs": [
    {
     "name": "stdout",
     "output_type": "stream",
     "text": [
      "0.3660323412732295\n",
      "0.36972963764971983\n",
      "0.18486481882486308\n",
      "0.060999165807528455\n",
      "0.014941714856894668\n",
      "0.0028977871237616114\n",
      "0.00046345080262179115\n",
      "6.286345663267816e-05\n",
      "7.381693771261511e-06\n",
      "7.621950919821188e-07\n",
      "7.006035693977161e-08\n"
     ]
    }
   ],
   "source": [
    "# k and loc should remain the same\n",
    "\n",
    "rv = stats.binom(100, 0.01)\n",
    "\n",
    "poisson_2 = rv.pmf(k)\n",
    "\n",
    "for i in poisson_2:\n",
    "    print(i)\n",
    "        "
   ]
  },
  {
   "cell_type": "markdown",
   "metadata": {},
   "source": [
    "**Part C**: Are your results in Part A and Part B the same?  Why or why not?  What fundamental assumptions are different in using a Poisson model to describe this process instead of the model in Part B?"
   ]
  },
  {
   "cell_type": "markdown",
   "metadata": {},
   "source": [
    "**The results start off about the same, but slowly grow further and further apart, with the non-indepedent/Poisson model remaining the bigger value. The reason for this is due to the difference between $p^{k}$ and $e^{\\lambda}$-- whereas the $e^{\\lambda}$ value will remain constant and goes to the denominator ($\\lambda$ will be less than 1), $p^{k}$, which will also end up in the denominator, is a growing value.**"
   ]
  },
  {
   "cell_type": "markdown",
   "metadata": {},
   "source": [
    "**Part D**: We could also use the *Geometric* random variable to track an event like \"what is the probability that we *don't* observe a single heavy storm in the 100 year interval.\"  Would this calculation agree with the corresponding probability (observing $k=0$ storms) from the models in Parts A and B?  Why or why not?  You may use code to justify your answer."
   ]
  },
  {
   "cell_type": "code",
   "execution_count": 4,
   "metadata": {},
   "outputs": [
    {
     "name": "stdout",
     "output_type": "stream",
     "text": [
      "Geom @ k = 0: 0.99\n"
     ]
    }
   ],
   "source": [
    "rv_g = stats.geom(0.99, loc = -1) # NOTE: We start at - 1 since we start at k = 0, which since we start with x - 1 means we should start on 0 - 1 = -1.\n",
    "\n",
    "poisson_3 = rv_g.pmf(k)\n",
    "\n",
    "print(\"Geom @ k = 0: \" + str(poisson_3[0]))"
   ]
  },
  {
   "cell_type": "markdown",
   "metadata": {},
   "source": [
    "**This has some rough correspondance. We would expect that k = 0 to have a 1/100 of it actually storming, so the fact that there's a 0.99 chance represented in the geometric random variable does make sense since we're looking at the chance that it does rain.**"
   ]
  },
  {
   "cell_type": "markdown",
   "metadata": {},
   "source": [
    "[Back to top](#top)\n",
    "\n",
    "<a id='p2'></a>\n",
    "\n",
    "## (25 pts) Problem 2 (Computation): Working with Continuous Distributions\n",
    "***\n",
    "Suppose you are creating a model to describe how long it takes you to complete your homework assignments.  For each assignment, the time required is a random variable $X$ that returns the number of hours required for that assignment.  You decide to use the following pdf for $X$:\n",
    "\n",
    "$$\n",
    "f(x) = \\begin{cases}\n",
    "         k \\ x \\ e^{\\left(-\\frac{x^2}{4}\\right)} & 0 \\leq x < \\infty \\\\\n",
    "         0                           & \\text{otherwise}\n",
    "       \\end{cases}\n",
    "$$\n",
    "where $k$ is some normalizing constant.\n",
    "\n",
    "**Part A**: Determine the value of $k$ such that $f(x)$ is a valid probability density function. Then, make a plot of the probability density function, $f(x)$. Be sure to label your plot and axes!"
   ]
  },
  {
   "cell_type": "markdown",
   "metadata": {},
   "source": [
    "$$\\int xe^{-\\frac{x^{2}}{4}}dx$$\n",
    "\n",
    "We use a **u-sub** where $u = -\\frac{1}{4}x^{2}$ and $du = -\\frac{1}{2}xdx$\n",
    "\n",
    "$$\\int -2 * e^{u} * du = -2e^{u} = -2e^{-\\frac{1}{4}x^{2}}$$\n",
    "\n",
    "Integrating the function $-2e^{-\\frac{1}{4}x^{2}}$ from $\\infty$ to $0$ will get us $0 - -2 = 2$ (note that when the original function goes to $-\\infty$, that we instead make this $0$). In order to make this value $= 1$, we need $k$ to be $\\frac{1}{2}$."
   ]
  },
  {
   "cell_type": "code",
   "execution_count": 5,
   "metadata": {},
   "outputs": [
    {
     "data": {
      "image/png": "[encoded data removed]",
      "text/plain": [
       "<Figure size 432x288 with 1 Axes>"
      ]
     },
     "metadata": {
      "needs_background": "light"
     },
     "output_type": "display_data"
    }
   ],
   "source": [
    "def func(x):\n",
    "    if(x < 0):\n",
    "        return 0\n",
    "    return 0.5 * (x) * (pow(math.e, -0.25 * pow(x, 2)))\n",
    "\n",
    "x_axis = np.linspace(-1,10,100)\n",
    "y_axis = []\n",
    "\n",
    "for i in x_axis:\n",
    "    y_axis.append(func(i))\n",
    "    \n",
    "plt.plot(x_axis, y_axis)\n",
    "plt.xlabel('# of Assignments')\n",
    "plt.ylabel('Time Taken (hrs)')\n",
    "plt.grid(True)\n",
    "plt.show()"
   ]
  },
  {
   "cell_type": "markdown",
   "metadata": {},
   "source": [
    "**Part B**: Compute *by hand* the cumulative density (cdf) function $F(x)$ for $X$."
   ]
  },
  {
   "cell_type": "markdown",
   "metadata": {},
   "source": [
    "$$CDF = \\int_{-\\infty}^{x} \\frac{1}{2}xe^{-\\frac{x^{2}}{4}}dx = \\int_{0}^{x} \\frac{1}{2}xe^{-\\frac{x^{2}}{4}}dx$$\n",
    "\n",
    "We can sub in the anti-derivative we found in part A above, assuming we factor out (and later factor back in) $\\frac{1}{2}$.\n",
    "\n",
    "$$CDF = \\frac{1}{2}(-2e^{-\\frac{1}{4}x^{2}} + 2) = -e^{-\\frac{1}{4}x^{2}} + 1$$\n",
    "\n",
    "Which is our final answer."
   ]
  },
  {
   "cell_type": "markdown",
   "metadata": {},
   "source": [
    "**Part C:**  Use the cdf you derived in **Part B** to calculate the median ($\\tilde{x}$) time required for an assignment."
   ]
  },
  {
   "cell_type": "markdown",
   "metadata": {},
   "source": [
    "Using the function,\n",
    "$$0.5 = \\int_{0}^{\\tilde{x}} \\frac{1}{2}xe^{-\\frac{x^{2}}{4}}dx = -e^{-\\frac{1}{4}\\tilde{x}^{2}} + 1$$\n",
    "\n",
    "We note that,\n",
    "\n",
    "$$-0.5 = -e^{-\\frac{1}{4}\\tilde{x}^{2}}$$\n",
    "\n",
    "Is the value we're looking for."
   ]
  },
  {
   "cell_type": "code",
   "execution_count": 6,
   "metadata": {},
   "outputs": [
    {
     "data": {
      "image/png": "[encoded data removed]",
      "text/plain": [
       "<Figure size 432x288 with 1 Axes>"
      ]
     },
     "metadata": {
      "needs_background": "light"
     },
     "output_type": "display_data"
    }
   ],
   "source": [
    "def func2(x):\n",
    "    return -1 * pow(math.e, (-0.25 * pow(x, 2)))\n",
    "\n",
    "x_axis = np.linspace(1.665,1.666,100) # Scale adjusted through trial-and-error\n",
    "y_axis = []\n",
    "\n",
    "for i in x_axis:\n",
    "    y_axis.append(func2(i))\n",
    "            \n",
    "plt.plot(x_axis, y_axis)\n",
    "plt.grid(True)\n",
    "plt.show()"
   ]
  },
  {
   "cell_type": "markdown",
   "metadata": {},
   "source": [
    "We see that the median value $\\tilde{x}$ is somewhere between 1.6650 and 1.6651."
   ]
  },
  {
   "cell_type": "markdown",
   "metadata": {},
   "source": [
    "**Part D**: It is a well-known fact that any assignment that takes longer than 200 minutes is **abhorrent**. Use the cdf you computed in **Part B** to find the probability that any arbitrary assigment that you observe is abhorrent."
   ]
  },
  {
   "cell_type": "markdown",
   "metadata": {},
   "source": [
    "Quick note that we measured in hours, so $200$ mins = $3 \\frac{1}{3}$ hrs.\n",
    "\n",
    "In general, any assignment should fit on the $\\int_{0}^{\\infty}$ scale. Therefore, we can represent the chance as\n",
    "$$\\frac{\\int_{3 \\frac{1}{3}}^{\\infty} \\frac{1}{2}xe^{-\\frac{x^{2}}{4}}dx}{\\int_{0}^{\\infty} \\frac{1}{2}xe^{-\\frac{x^{2}}{4}}dx}$$\n",
    "\n",
    "or in simplified terms,\n",
    "\n",
    "$$\\frac{F(\\infty) - F(3 \\frac{1}{3})}{F(\\infty) - F(0)}$$\n",
    "\n",
    "Knowing that $F(\\infty) = 0$,"
   ]
  },
  {
   "cell_type": "code",
   "execution_count": 7,
   "metadata": {},
   "outputs": [
    {
     "name": "stdout",
     "output_type": "stream",
     "text": [
      "There is a 0.0621765240221163/1.0 chance, of an abhorrent assignment.\n",
      "(About 6.2176524022116295%)\n"
     ]
    }
   ],
   "source": [
    "result_num = (0.0 - func2(200.0/60))\n",
    "result_denom =  (0.0 - func2(0))\n",
    "\n",
    "print(\"There is a \" + str(result_num) + \"/\" + str(result_denom) + \" chance, of an abhorrent assignment.\")\n",
    "print(\"(About \" + str((result_num/result_denom) * 100) + \"%)\")"
   ]
  },
  {
   "cell_type": "markdown",
   "metadata": {},
   "source": [
    "**Part E:**  You've done some homework and tallied up the results! Suppose you sample 6 assignment durations, and the duration of any one assignment is independent of the duration of the others. What is the probability that at least 3 but not all of them are **not** abhorrent?"
   ]
  },
  {
   "cell_type": "markdown",
   "metadata": {},
   "source": [
    "We calculated prob(abhorrent) last time. The chance of getting $n$ abhorrent assignments is prob(abhorrent)$^{n}$.\n",
    "\n",
    "The question asks what the probability of there being at least 3 normal assignments, exluding cases where they're all normal. These cases are:\n",
    "\n",
    "- 3 normal assignments (3 abhorrent)\n",
    "- 4 normal assignments (2 abhorrent)\n",
    "- 5 normal assignments (1 abhorrent)\n",
    "\n",
    "Running some combinatrics math, there are 20 ways to have 3 abhorrent assignements, 15 to have 4 abhorrent assigments, and 6 to have 5 abhorrent assignments. So we can set up the math as:\n",
    "\n",
    "- **3 Abhorrent** = prob(abhorrent)$^{3} * 20$\n",
    "- **4 Abhorrent** = prob(abhorrent)$^{4} * 15$\n",
    "- **5 Abhorrent** = prob(abhorrent)$^{5} * 6$\n",
    "\n",
    "And we'll add these all together at the end."
   ]
  },
  {
   "cell_type": "code",
   "execution_count": 8,
   "metadata": {},
   "outputs": [
    {
     "name": "stdout",
     "output_type": "stream",
     "text": [
      "The probability of at least 3 assignments being normal (but not all of them) is 0.005037145101460831\n",
      "(About 0.503714510146083%)\n"
     ]
    }
   ],
   "source": [
    "prob_ab = result_num / result_denom\n",
    "\n",
    "three_ab = pow(prob_ab, 3) * 20\n",
    "four_ab = pow(prob_ab, 4) * 15\n",
    "five_ab = pow(prob_ab, 5) * 6\n",
    "\n",
    "print(\"The probability of at least 3 assignments being normal (but not all of them) is \" + str(three_ab + four_ab + five_ab))\n",
    "print(\"(About \" + str((three_ab + four_ab + five_ab) * 100) + \"%)\")"
   ]
  },
  {
   "cell_type": "markdown",
   "metadata": {},
   "source": [
    "[Back to top](#top)\n",
    "\n",
    "<a id='p3'></a>\n",
    "\n",
    "## (45 pts) Problem 3: Simulation (Stochastic Integration)\n",
    "***\n",
    "\n",
    "One really cool application of random variables is using them to approximate integrals/areas - an extension of the estimation of $\\pi$ done in nb04.  The random method of approximating integrals is used frequently in computational science to approximate really difficult integrals that we *never* want to do by hand.  In this exercise you'll figure out how we can do this in practice and test your method on an integral that we could do by hand. "
   ]
  },
  {
   "cell_type": "markdown",
   "metadata": {},
   "source": [
    "**Part A.**  Let $L$ be a random variable representing how happy your new desk plant, Fernoulli Jr., is today.  It's measured by the **Lushness Index** (LI).  Suppose the probability density function for $L$ is on a scale from zero to one, and is described by an arcsine function:\n",
    "\n",
    "$$\n",
    "f_L(a) = \\begin{cases}\n",
    "         \\left(\\frac{1}{\\frac{\\pi}{2}-1}\\right)\\sin^{-1}(a) & 0 \\leq a \\leq 1 \\\\\n",
    "         0                           & \\text{otherwise}\n",
    "         \\end{cases}\n",
    "$$\n",
    "\n",
    "A Lushness Index of 1 means Fernoulli Jr. is feeling  well-watered, content, and ready to perform binary statistical experiments.  A Lushness Index of 0 means that your plant is really in need of some more sunlight.  \n",
    "\n",
    "\n",
    "\n",
    "Compute **by hand**, the integral of $f(a)$ for $0 \\leq a \\leq 1/2$.  Write a sentence or two to interpret your result physically, in the context of this problem set-up.\n",
    "\n",
    "*Hint*: this is classically an integral that makes use of the fact that $\\frac{d}{dx} \\sin^{-1}(x)=\\frac{1}{\\sqrt{1-x^2}}$.  That sounds like *\"part\"* of the solution.  You should also probably make sure you take a look at the plot of $f$, making mental note of it's minima, maxima, etc. over that interval."
   ]
  },
  {
   "cell_type": "markdown",
   "metadata": {},
   "source": [
    "$$\\int_{0}^{\\frac{1}{2}} (\\frac{1}{\\frac{\\pi}{2} - 1})\\sin^{-1}(a) da$$\n",
    "\n",
    "We note the coeffecient, and factor it out.\n",
    "\n",
    "$$(\\frac{1}{\\frac{\\pi}{2} - 1})\\int_{0}^{\\frac{1}{2}} \\sin^{-1}(a) da$$\n",
    "\n",
    "Straight-forward integral. We use the anti-derivative of $arcsin$.\n",
    "\n",
    "$$F(a) = (\\frac{1}{\\frac{\\pi}{2} - 1})(a\\sin^{-1}(a) + \\sqrt{1 - a^{2}})$$\n",
    "\n",
    "We plug in values from here.\n",
    "\n",
    "$$F(\\frac{1}{2}) - F(0) = 0.2239411600$$\n",
    "\n",
    "Which is the final answer."
   ]
  },
  {
   "cell_type": "markdown",
   "metadata": {},
   "source": [
    "**Part B.** What is the maximum of $f_L(a)$ over the interval $[0,1]$?  For the rest of the problem, we will refer to this value by $m$."
   ]
  },
  {
   "cell_type": "markdown",
   "metadata": {},
   "source": [
    "We take the derivative of the function.\n",
    "\n",
    "$$f'_{L}(a) = (\\frac{1}{\\frac{\\pi}{2} - 1}) (\\frac{1}{\\sqrt{1 - a^{2}}})$$\n",
    "\n",
    "We note that the derivative function doesn't go to $0$, so we'll try the endpoints of the interval.\n",
    "\n",
    "$$f_{L}(0) = 0$$ \n",
    "\n",
    "$$f_{L}(1) = 2.75193839388$$\n",
    "\n",
    "Since the derivative didn't have any zeroes, we can assume the function is increasing over the entire $[0,1]$, meaning the endpoint at $a = 1$ has the max value of $2.75193839388$."
   ]
  },
  {
   "cell_type": "markdown",
   "metadata": {},
   "source": [
    "**Part C.** Suppose we sample a continuous uniform random variable $X\\sim U(0,1/2)$ and another  random variable $Y \\sim U(0,m)$ and think of them as $x$- and $y$-coordinates of a point in the box $[0,1/2] \\times [0,m]$, or inside the box composed of all points $\\{(x,y)\\,|\\, x \\in [0,1/2], y \\in [0,m]\\}.$  \n",
    "\n",
    "If we compute the ratio of points that fall under the curve $f(x)$ to the total points sampled, what does this value estimate? "
   ]
  },
  {
   "cell_type": "markdown",
   "metadata": {},
   "source": [
    "The ratio of points that full under the curve would be the area from $[0, \\frac{1}{2}]$, and the ratio of total points sampled would be the area of the box.\n",
    "\n",
    "So, the fraction looks something like,\n",
    "\n",
    "$$\\frac{0.2239411600}{\\frac{m}{2}}$$\n",
    "\n",
    "It estimates that if we theoretically put random points in the square of $\\frac{1}{2} \\times m$ size, then $\\frac{0.2239411600}{\\frac{m}{2}}$ of them should land under the curve of $f(x)$."
   ]
  },
  {
   "cell_type": "markdown",
   "metadata": {},
   "source": [
    "**Part D.** How could we modify the process outlined in the previous part so that our estimator estimates the value of the desired integral?  If you need inspiration, check out the in-class notebook on Stochastic Simulation (#4), specifically, the exercise where we estimated $\\pi$!"
   ]
  },
  {
   "cell_type": "markdown",
   "metadata": {},
   "source": [
    "We start with $\\frac{0.2239411600}{\\frac{m}{2}}$, and set it equal to the chance that we hit the integral area ($n_{int}$) over the amount of arrows we throw ($n$).\n",
    "\n",
    "$$\\frac{0.2239411600}{\\frac{m}{2}} = \\frac{n_{int}}{n}$$\n",
    "\n",
    "Re-arrange the fraction...\n",
    "\n",
    "$$0.2239411600 = \\frac{m}{2} * \\frac{n_{int}}{n}$$\n",
    "\n",
    "We can check if the points are actually in the integral like this:\n",
    "\n",
    "$$0 \\leq x \\leq \\frac{1}{2}$$\n",
    "\n",
    "and\n",
    "\n",
    "$$0 \\leq y \\leq f(\\frac{1}{2})$$\n",
    "\n",
    "If both conditions are satisfied, then it's inside the integral."
   ]
  },
  {
   "cell_type": "markdown",
   "metadata": {},
   "source": [
    "**Part E.** Complete the function `integrate` below to compute an approximation to the definition integral $\\int_0^{\\text{ub}} f(x)dx$.  Your function should take as arguments:\n",
    "1. `num_samples` -- the number of points to sample,\n",
    "2. `ub` -- a number between $0$ and $1$ that is the upper bound of the integral, and\n",
    "3. `isPlot` -- a Boolean flag for whether or not to display a plot of the results.\n",
    "\n",
    "Your function should return an approximation of the definite integral by sampling $X$ from $U(0,\\text{ub})$ and $Y$ from $U(0,m)$. For each random draw $(X,Y)$, define the random variable $Z$ that represents whether or not the sampled $Y$ value is less than $f(X)$ for the corresponding $X$ value.\n",
    "\n",
    "Your function should perform three tasks: \n",
    "\n",
    "1. return the estimate of the value of the integral,\n",
    "2. return the sample variance of the random variable $Z$ being simulated, using the np.var function, and\n",
    "3. if `isPlot` is True, plot the curve $f(x)$ as well as the location of the points $(X,Y)$, colored according to whether they fall above or below the curve. "
   ]
  },
  {
   "cell_type": "code",
   "execution_count": 9,
   "metadata": {},
   "outputs": [],
   "source": [
    "# GIVEN CODE - Do not change the inputs/outputs or your code will fail unit tests and auto-grading!\n",
    "def asin(x):\n",
    "    return (np.arcsin(x))/(np.pi/2-1)\n",
    "\n",
    "def integrate(num_samples, ub, isPlot):\n",
    "    #computations for estimated area here\n",
    "    \n",
    "    hit_count = 0\n",
    "    \n",
    "    samples_x = []\n",
    "    samples_y = []\n",
    "    \n",
    "    hit_points_x = []\n",
    "    hit_points_y = []\n",
    "    \n",
    "    miss_points_x = []\n",
    "    miss_points_y = []\n",
    "    \n",
    "    for i in range(0, num_samples):\n",
    "        \n",
    "        samples_x.append(np.random.uniform(low=0, high=ub, size=1))\n",
    "        samples_y.append(np.random.uniform(low=0, high=asin(ub), size=1))\n",
    "        \n",
    "        if(samples_x[i] <= ub and samples_y[i] <= asin(samples_x[i])):\n",
    "            #print(\"Point: \" + str(samples_x[i]) +\",\" + str(samples_y[i]))\n",
    "            hit_count += 1\n",
    "            hit_points_x.append(samples_x[i])\n",
    "            hit_points_y.append(samples_y[i])\n",
    "        else:\n",
    "            miss_points_x.append(samples_x[i])\n",
    "            miss_points_y.append(samples_y[i])\n",
    "    \n",
    "    #print(\"Hit count: \" + str(hit_count))\n",
    "    \n",
    "    estimate = (asin(ub) * ub) * (hit_count / num_samples) \n",
    "    sample_var = np.var((samples_x, samples_y))\n",
    "    \n",
    "    if isPlot:\n",
    "        fig, ax = plt.subplots(nrows=1, ncols=1, figsize=(12,6))\n",
    "        \n",
    "        x_axis = np.linspace(0,1,100)\n",
    "        y_axis = []\n",
    "\n",
    "        for i in x_axis:\n",
    "            y_axis.append(asin(i)) \n",
    "        #plot here\n",
    "        \n",
    "        ax.scatter(hit_points_x, hit_points_y, c = 'g')\n",
    "        ax.scatter(miss_points_x, miss_points_y, c = 'r')\n",
    "        ax.plot(x_axis, y_axis, c = 'black')\n",
    "                \n",
    "    return estimate, sample_var"
   ]
  },
  {
   "cell_type": "markdown",
   "metadata": {},
   "source": [
    "**Part F.** Write your own small unit tests!\n",
    "\n",
    "First, what should your `integrate` function output if you plug in `ub=0`? Set that as `int_0_to_0` below.\n",
    "\n",
    "Second, what should your `integrate` function output if you plug in `ub=`1?  (Is this actually a valid pdf?) Set that as `int_0_to_1` below.\n",
    "\n",
    "Then, you can execute the cell below to run two sanity checks. Write out **in math** (like, a definite integral) what each of these two tests is checking and **why** that is a reasonable sanity check.\n",
    "\n",
    "If these two assertions run without fail, then things seem to be working okay. Note that the upper endpoint test involves randomness, so if it fails, try running it a few times. If it fails a lot, then things are probably going wrong."
   ]
  },
  {
   "cell_type": "code",
   "execution_count": 10,
   "metadata": {},
   "outputs": [],
   "source": [
    "int_0_to_0  = 0.0 # fill this in!\n",
    "int_0_to_1 = 1 # this one too!\n",
    "\n",
    "\n",
    "#---------------------------------------\n",
    "# DO NOT EDIT THIS CELL BELOW HERE\n",
    "#---------------------------------------\n",
    "assert integrate(1000, 0, False)[0]==int_0_to_0, \"Error: lower endpoint test failing\"\n",
    "assert math.isclose(integrate(10000, 1, False)[0],int_0_to_1,abs_tol=0.03), \"Error: upper endpoint test failing\""
   ]
  },
  {
   "cell_type": "markdown",
   "metadata": {},
   "source": [
    "**Typeset the rest of solution for Problem E in this cell or cells.**"
   ]
  },
  {
   "cell_type": "markdown",
   "metadata": {},
   "source": [
    "**Part G.** Run your simulation with `isPlot=True` and `ub=`$1/2$ for 1,000 samples so we can see your plot. Then, run your simulation (with `isPlot=False`) with at least 10,000 samples and estimate the value of the given integral. Be sure to leave your cells evaluated for the graders! Does your estimate agree with the exact value of the integral you computed in **Part A**?  As a whole, what advantage does this process offer over actually doing the integral by hand?"
   ]
  },
  {
   "cell_type": "code",
   "execution_count": 11,
   "metadata": {},
   "outputs": [
    {
     "name": "stdout",
     "output_type": "stream",
     "text": [
      "0.22396191962226844\n"
     ]
    },
    {
     "data": {
      "image/png": "[encoded data removed]",
      "text/plain": [
       "<Figure size 864x432 with 1 Axes>"
      ]
     },
     "metadata": {
      "needs_background": "light"
     },
     "output_type": "display_data"
    }
   ],
   "source": [
    "#Integrate, plot, and estimate!\n",
    "\n",
    "integrate(1000, 1/2, True)\n",
    "print(integrate(10000,1/2,False)[0])"
   ]
  },
  {
   "cell_type": "markdown",
   "metadata": {},
   "source": [
    "The estimate is really, really close, although it's not exact and falters after a few decimal places. The main advantage to doing it this way is probably that you can easily see it visually, and that it's less reliant on you properly integrating every time you need an integral value. "
   ]
  },
  {
   "cell_type": "code",
   "execution_count": null,
   "metadata": {},
   "outputs": [],
   "source": []
  }
 ],
 "metadata": {
  "kernelspec": {
   "display_name": "Python 3",
   "language": "python",
   "name": "python3"
  },
  "language_info": {
   "codemirror_mode": {
    "name": "ipython",
    "version": 3
   },
   "file_extension": ".py",
   "mimetype": "text/x-python",
   "name": "python",
   "nbconvert_exporter": "python",
   "pygments_lexer": "ipython3",
   "version": "3.8.6"
  }
 },
 "nbformat": 4,
 "nbformat_minor": 4
}
