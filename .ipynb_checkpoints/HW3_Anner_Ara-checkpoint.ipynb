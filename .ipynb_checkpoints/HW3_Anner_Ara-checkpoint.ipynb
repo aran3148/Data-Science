{
 "cells": [
  {
   "cell_type": "markdown",
   "metadata": {},
   "source": [
    "<a id='top'></a>\n",
    "\n",
    "# CSCI3022 S21\n",
    "# Homework 3: Probability and Simulations\n",
    "***\n",
    "\n",
    "**Name**: Ara Anner\n",
    "\n",
    "***\n",
    "\n",
    "This assignment is due on Canvas by **MIDNIGHT on Monday, February 22**. Your solutions to theoretical questions should be done in Markdown directly below the associated question.  Your solutions to computational questions should include any specified Python code and results as well as written commentary on your conclusions.  Remember that you are encouraged to discuss the problems with your classmates, but **you must write all code and solutions on your own**.\n",
    "\n",
    "**NOTES**: \n",
    "\n",
    "- Any relevant data sets should be available on Canvas. To make life easier on the graders if they need to run your code, do not change the relative path names here. Instead, move the files around on your computer.\n",
    "- If you're not familiar with typesetting math directly into Markdown then by all means, do your work on paper first and then typeset it later.  Here is a [reference guide](https://math.meta.stackexchange.com/questions/5020/mathjax-basic-tutorial-and-quick-reference) linked on Canvas on writing math in Markdown. **All** of your written commentary, justifications and mathematical work should be in Markdown.  I also recommend the [wikibook](https://en.wikibooks.org/wiki/LaTeX) for LaTex.\n",
    "- Because you can technically evaluate notebook cells is a non-linear order, it's a good idea to do **Kernel $\\rightarrow$ Restart & Run All** as a check before submitting your solutions.  That way if we need to run your code you will know that it will work as expected. \n",
    "- It is **bad form** to make your reader interpret numerical output from your code.  If a question asks you to compute some value from the data you should show your code output **AND** write a summary of the results in Markdown directly below your code. \n",
    "- 95 points of this assignment are in problems.  The remaining 5 are for neatness, style, and overall exposition of both code and text.\n",
    "- This probably goes without saying, but... For any question that asks you to calculate something, you **must show all work and justify your answers to receive credit**. Sparse or nonexistent work will receive sparse or nonexistent credit. \n",
    "\n",
    "---\n",
    "**Shortcuts:**  [Problem 1](#p1) | [Problem 2](#p2) | [Problem 3](#p3) |\n",
    "---"
   ]
  },
  {
   "cell_type": "code",
   "execution_count": 1,
   "metadata": {},
   "outputs": [],
   "source": [
    "import pandas as pd\n",
    "import numpy as np\n",
    "import matplotlib.pylab as plt\n",
    "import random\n",
    "%matplotlib inline"
   ]
  },
  {
   "cell_type": "markdown",
   "metadata": {},
   "source": [
    "[Back to top](#top)\n",
    "\n",
    "<a id='p1'></a>\n",
    "\n",
    "## (25 pts) Problem 1 (Simulation): Let's play some \"games\"!\n",
    "***\n",
    "\n",
    "One of the big payoffs of simulation is that it can let us answer some probability questions that are otherwise quite difficult.  We can instead just simulate the process and get approximate results based on simulation.\n",
    "\n"
   ]
  },
  {
   "cell_type": "markdown",
   "metadata": {},
   "source": [
    "***\n",
    "### A) Poker... pen-and-paper\n",
    "Game number 1... is Poker!\n",
    "\n",
    "A common example for discrete counting and probability questions are poker hands.  Consider using a standard 52-card playing deck, with card faces `[A,2,3,4,5,6,7,8,9,10,J,Q,K]` across the standard 4 suits: `[C,D,H,S]`.\n",
    "\n",
    "Suppose we draw 5 cards at random from the deck.  What is the exact probability that we have a \"full house:\" a hand with 3 copies of one card face type (of any suits) and the other two cards matches of a different card face type (of any suits)?  Typeset your work below.  You may leave your answer in terms of a ratio of products, but you should simplify away any combinatoric notation such as ${n \\choose k}$ or $P(n,k)$.\n"
   ]
  },
  {
   "cell_type": "markdown",
   "metadata": {},
   "source": [
    "**First, a poker hand is 5 cards, which means the chance of drawing a full house out of any possible hand puts a denominator of ${52 \\choose 5}$. For a full house, you need to choose which card face first (like an Ace or a King), which will be ${13 \\choose 1}$. Then, from that face, you'll need to choose 3 of the 4 cards, so ${4 \\choose 3}$. For your other two cards, you need to choose something that isn't of the same card face, and choose two cards, so it'll be ${12 \\choose 1}$ times ${4 \\choose 2}$ (you're choosing 1 different face card, and 2 different cards of any suit).**\n",
    "\n",
    "**So overall, we seem to have: $$\\frac{({13 \\choose 1} * {4 \\choose 3})({12 \\choose 1} * {4 \\choose 2})}{52 \\choose 5} = \\frac{(13 * 4) * (12 * 6)}{2598960} = \\frac{6}{4165}$$**"
   ]
  },
  {
   "cell_type": "markdown",
   "metadata": {},
   "source": [
    "***\n",
    "### B) Poker with computers!\n",
    "\n",
    "Write a simulation that draws a hand of 5 cards from a standard 52-card deck. Repeat this simulation 10000 times, and report how many \"full house\" hands were observed. Verify that the result is consistent with your answer to part A.\n",
    "\n",
    "NB: The function `np.unique` can make checking hands easier.  Your actual simulation should have 52 distinct cards, even if we're only using the faces (and not suits) for the check of full house."
   ]
  },
  {
   "cell_type": "code",
   "execution_count": 2,
   "metadata": {},
   "outputs": [
    {
     "name": "stdout",
     "output_type": "stream",
     "text": [
      "There was a full house 15 times. That's a probability of 0.15% of the time.\n",
      "The original guess was about 0.14405762304921968% of the time.\n"
     ]
    }
   ],
   "source": [
    "def card_gen():\n",
    "    faces = [\"A\",\"2\",\"3\",\"4\",\"5\",\"6\",\"7\",\"8\",\"9\",\"10\",\"J\",\"Q\",\"K\"]\n",
    "    \n",
    "    deck = []\n",
    "    \n",
    "    for i in range(0, len(faces)):\n",
    "        for j in range(0, 4):\n",
    "            deck.append(faces[i])    \n",
    "    return deck\n",
    "\n",
    "def pull_five(deck):\n",
    "    hand = []\n",
    "    \n",
    "    for i in range(0, 5):\n",
    "        rand_ind = (np.random.randint(len(deck), size=1))[0]\n",
    "        hand.append(deck[rand_ind])\n",
    "        deck.remove(hand[i]) # Remove the card from the deck so it's not pulled again.\n",
    "        \n",
    "    return hand\n",
    "\n",
    "def check_full_house(hand):\n",
    "    \n",
    "    values,counts = np.unique(hand, return_counts=True)\n",
    "    \n",
    "    if 3 in counts and 2 in counts:\n",
    "        return True\n",
    "    else:\n",
    "        return False\n",
    "\n",
    "def ten_thousand_times():\n",
    "    full_house_count = 0\n",
    "    \n",
    "    for i in range(0,10000):\n",
    "        \n",
    "        deck = card_gen()\n",
    "        hand = pull_five(deck)\n",
    "        full_house = check_full_house(hand)\n",
    "        \n",
    "        if full_house == True:\n",
    "            full_house_count += 1\n",
    "    \n",
    "    print(\"There was a full house \" + str(full_house_count) + \" times. That's a probability of \" + str((full_house_count/10000) * 100) + \"% of the time.\")\n",
    "    print(\"The original guess was about \" + str((6/4165) * 100) + \"% of the time.\")\n",
    "    \n",
    "\n",
    "ten_thousand_times()\n",
    "\n",
    "#///////////////////////////////////////////////////////////////////////////////////////////////////////////////////////////////////////////////////////////////////\n",
    "\n",
    "# The numbers are close and thank god because I have spent an ungodly amount of time on this part.\n",
    "# The secret was understanding how poker works."
   ]
  },
  {
   "cell_type": "markdown",
   "metadata": {},
   "source": [
    "The Riddler is a column on the website https://fivethirtyeight.com that posts logic, math, and probability puzzles each week.  Some of puzzles can be attacked by simulation and discrete probability: things that we have the tools to solve!\n",
    "\n",
    "Parts C/Eare former Riddler prompts.\n",
    "\n",
    "\n",
    "***\n",
    "### C) A \"solitaire\" game\n",
    "\n",
    "On snowy afternoons, you like to play a solitaire “game” with a standard, randomly shuffled deck of 52 cards. You start dealing cards face up, one at a time, into a pile. As you deal each card, you also speak aloud, in order, the 13 card faces in a standard deck: ace, two, three, etc. (When you get to king, you start over at ace.) You keep doing this until the rank of the card you deal matches the rank you speak aloud, in which case you lose. You win if you reach the end of the deck without any matches.\n",
    "\n",
    "Set up a simulation to answer the prompt: what is the probability that you win?\n",
    "\n",
    "Note that your final result should be *close* to the value of $(12/13)^{52}$, which would be the theoretical result if each card flip was independent.  Was it higher or lower?  Does this match your intuition?"
   ]
  },
  {
   "cell_type": "code",
   "execution_count": 3,
   "metadata": {},
   "outputs": [
    {
     "name": "stdout",
     "output_type": "stream",
     "text": [
      "Out of the 10000 games, 145 were won, giving us a value of 0.0145\n",
      "Compare this to the expected value of 0.015572935129947783.\n"
     ]
    }
   ],
   "source": [
    "def shuffle_deck():\n",
    "\n",
    "    faces = [\"A\",\"2\",\"3\",\"4\",\"5\",\"6\",\"7\",\"8\",\"9\",\"10\",\"J\",\"Q\",\"K\"]\n",
    "\n",
    "    full_deck = faces + faces + faces + faces\n",
    "    \n",
    "    shuffled_deck = []\n",
    "    \n",
    "    for i in range(0, len(full_deck)):\n",
    "        rand_ind = (np.random.randint(len(full_deck), size=1))[0]\n",
    "        shuffled_deck.append(full_deck[rand_ind])\n",
    "        full_deck.remove(shuffled_deck[i])\n",
    "    \n",
    "    return shuffled_deck\n",
    "\n",
    "def determine_win(shuffled_deck):\n",
    "    \n",
    "    faces = [\"A\",\"2\",\"3\",\"4\",\"5\",\"6\",\"7\",\"8\",\"9\",\"10\",\"J\",\"Q\",\"K\"]\n",
    "\n",
    "    full_deck = faces + faces + faces + faces\n",
    "    \n",
    "    for i in range(0, len(shuffled_deck)):\n",
    "        if shuffled_deck[i] == full_deck[i]:\n",
    "            return False\n",
    "    \n",
    "    return True\n",
    "\n",
    "def soltaire_game():\n",
    "    \n",
    "    wins = 0\n",
    "    \n",
    "    times_played = 10000 # Change this to play more/less times.\n",
    "    \n",
    "    for i in range(0, times_played):\n",
    "        shuffled_deck = shuffle_deck()\n",
    "        win = determine_win(shuffled_deck)\n",
    "        \n",
    "        if win == True:\n",
    "            wins += 1\n",
    "    \n",
    "    print(\"Out of the \" + str(times_played) + \" games, \" + str(wins) + \" were won, giving us a value of \" + str(wins/times_played))\n",
    "    print(\"Compare this to the expected value of \" + str(pow((12/13), 52)) + \".\")\n",
    "        \n",
    "\n",
    "\n",
    "soltaire_game()\n",
    "\n",
    "# /////////////////////////////////////////////////////////////////////////////////////////////////////////////////////////////////////////////\n",
    "\n",
    "# The value I get is a little bit lower than the number (0.0154), though I did some prior tests with 100 games, in which my value was higher.\n",
    "# This is about what I expected, since for the first Ace, you have a 48/52 or 12/13 chance of drawing a \"safe\" card, and you'd have similar\n",
    "# fractions as you kept drawing (albeit not exactly 12/13)."
   ]
  },
  {
   "cell_type": "markdown",
   "metadata": {},
   "source": [
    "***\n",
    "### D) Random motion\n",
    "\n",
    "Suppose that all city streets follow a grid layout, running north-south and east-west. You’re driving north when you decide to play a little game. Every time you reach an intersection, you randomly turn left or right, each with a 50 percent chance.\n",
    "\n",
    "After driving through 10 intersections, what is the probability that you are still driving north?\n"
   ]
  },
  {
   "cell_type": "code",
   "execution_count": 4,
   "metadata": {},
   "outputs": [
    {
     "name": "stdout",
     "output_type": "stream",
     "text": [
      "We ran the 10-turn simulation 10000 times, and found that we ended up north 4997 times.\n",
      "That's a 49.97% chance of it ending up that way.\n"
     ]
    }
   ],
   "source": [
    "def turn_choice(direction):\n",
    "    choices = [\"L\", \"R\"]\n",
    "    \n",
    "    choice = random.choice(choices)\n",
    "    \n",
    "    if choice == \"L\":\n",
    "        if direction == \"N\":\n",
    "            return \"W\"\n",
    "        elif direction == \"W\":\n",
    "            return \"S\"\n",
    "        elif direction == \"S\":\n",
    "            return \"E\"\n",
    "        else:\n",
    "            return \"N\"\n",
    "    else: # TURNING RIGHT\n",
    "        if direction == \"N\":\n",
    "            return \"E\"\n",
    "        elif direction == \"E\":\n",
    "            return \"S\"\n",
    "        elif direction == \"S\":\n",
    "            return \"W\"\n",
    "        else:\n",
    "            return \"N\"\n",
    "\n",
    "def random_motion():\n",
    "    direction = \"N\"\n",
    "    \n",
    "    final_dir_nort = 0\n",
    "    times_tried = 10000\n",
    "    \n",
    "    for i in range(0, times_tried):\n",
    "        for j in range(0, 10):\n",
    "            direction = turn_choice(direction)\n",
    "        \n",
    "        if direction == \"N\":\n",
    "            final_dir_nort += 1\n",
    "\n",
    "    print(\"We ran the 10-turn simulation \" + str(times_tried) + \" times, and found that we ended up north \" + str(final_dir_nort) + \" times.\")\n",
    "    print(\"That's a \" + str((final_dir_nort/times_tried) * 100) + \"% chance of it ending up that way.\")\n",
    "    \n",
    "random_motion()"
   ]
  },
  {
   "cell_type": "markdown",
   "metadata": {},
   "source": [
    "***\n",
    "### E) More Random motion\n",
    "\n",
    "Now suppose that at every intersection, there’s a one-third chance you turn left, a one-third chance you turn right and a one-third chance you drive straight. Create a set of simulations that record which direction you're driving 11 times.  \n",
    "\n",
    "It is recommended that you save the results in a data frame of the form below:\n",
    "\n",
    "| Start | T1 | T2 | T3 | ... | T10 |\n",
    "| --- | --- |\n",
    "| N | E | N | W| ... | N |\n",
    "| N | W | W | S | ... | E|\n",
    "| N | W | N | E | ... | W|\n",
    "\n",
    "then create a plot where the $x$ axis is \"numbers of turns made\" from 0 to 10, and the $y$ axis is \"probability that you're driving North.\"\n"
   ]
  },
  {
   "cell_type": "code",
   "execution_count": 5,
   "metadata": {},
   "outputs": [
    {
     "data": {
      "image/png": "[encoded data removed]",
      "text/plain": [
       "<Figure size 432x288 with 1 Axes>"
      ]
     },
     "metadata": {
      "needs_background": "light"
     },
     "output_type": "display_data"
    }
   ],
   "source": [
    "def turn_choice_2(direction):\n",
    "    choices = [\"L\", \"R\", \"S\"]\n",
    "    \n",
    "    rand_ind = (np.random.randint(3, size=1))[0]\n",
    "    \n",
    "    choice = choices[rand_ind]\n",
    "    \n",
    "    if choice == \"L\":\n",
    "        if direction == \"N\":\n",
    "            return \"W\"\n",
    "        elif direction == \"W\":\n",
    "            return \"S\"\n",
    "        elif direction == \"S\":\n",
    "            return \"E\"\n",
    "        else:\n",
    "            return \"N\"\n",
    "    elif choice == \"R\":\n",
    "        if direction == \"N\":\n",
    "            return \"E\"\n",
    "        elif direction == \"E\":\n",
    "            return \"S\"\n",
    "        elif direction == \"S\":\n",
    "            return \"W\"\n",
    "        else:\n",
    "            return \"N\"\n",
    "    else:\n",
    "        return direction\n",
    "\n",
    "def random_motion_2():\n",
    "    \n",
    "    direction = \"N\"\n",
    "    times_tried = 10000\n",
    "    \n",
    "    df_x = [\"Start\", \"T1\", \"T2\", \"T3\", \"T4\", \"T5\", \"T6\", \"T7\", \"T8\", \"T9\", \"T10\"]\n",
    "    df_y = [times_tried, 0, 0, 0, 0, 0, 0, 0, 0, 0, 0] # We will always start going north, so.\n",
    "    \n",
    "    \n",
    "    for i in range(0, times_tried):\n",
    "        for j in range(1, 11):\n",
    "            direction = turn_choice_2(direction)\n",
    "            \n",
    "            if direction == \"N\":\n",
    "                df_y[j] = df_y[j] + 1\n",
    "    \n",
    "    for i in range(0, len(df_y)):\n",
    "        df_y[i] = (float(df_y[i]) / float(times_tried)) * 100 # Change this to a percent.\n",
    "     \n",
    "    plt.plot(df_x, df_y)\n",
    "    plt.xlabel('Number of Turns Made')\n",
    "    plt.ylabel('Probability Youre Going North (%)')\n",
    "    plt.grid(True)\n",
    "    plt.show()\n",
    "\n",
    "random_motion_2()\n",
    "\n",
    "# There appears to be 30% > that we're going north after the start."
   ]
  },
  {
   "cell_type": "markdown",
   "metadata": {},
   "source": [
    "[Back to top](#top)\n",
    "<a/ id='p2'></a>\n",
    "\n",
    "## (20 pts) Problem 2 (Simulation and Theory): Bayes and Repeated Observations\n",
    "***\n",
    "\n",
    "\n",
    "To play a game, you have a bag containing 25 fair six-sided dice, with faces `{1,2,3,4,5,6}`.  <img style=\"float: right; width: 200px; padding: 3mm;\" src=\"https://images-na.ssl-images-amazon.com/images/I/619NZnvxJaL._SX425_.jpg\" alt=\"Drawing\"/>\n",
    "This bag also contains 10 fair eight-sided dice (faces `{1,2,3,4,5,6,7,8}`) and 2 fair twenty-sided dice (faces `{1,2,3,4,...,19,20}`).  Call these 3 classes of die \"Six\", \"Eight\" and \"Twenty\" (or S, E, and T, for short). In order to be sure that you are not distinguishing dice by their feel, you are required to wear crab claw gloves. After donning your gloves, you grab one die at random from the bag. \n",
    "\n",
    "Work the following problems by hand (or claw) unless otherwise stated (but don't be afraid to simulate to check your result!). "
   ]
  },
  {
   "cell_type": "markdown",
   "metadata": {},
   "source": [
    "***\n",
    "### Part A: You roll your die one time.  What is the probability of the event $R_7$, that you roll a 7?  Include at least 4 decimal places in your answer."
   ]
  },
  {
   "cell_type": "markdown",
   "metadata": {},
   "source": [
    "$$P(R_{7}) = \\frac{P(Eight) * P(R_{7}) + P(Twenty) * P(R_{7})}{1} = \\frac{10}{37} * \\frac{1}{8} + \\frac{2}{27} * \\frac{1}{20}$$\n",
    "\n",
    "$$= 0.0374874874875$$"
   ]
  },
  {
   "cell_type": "markdown",
   "metadata": {},
   "source": [
    "***\n",
    "### Part B: Suppose you roll a 7.  What is the probability that the die you chose from the bag is an Eight-sided die? "
   ]
  },
  {
   "cell_type": "markdown",
   "metadata": {},
   "source": [
    "$$P(Eight, R_{7}) = \\frac{P(Eight) \\cap P(R_{7})}{P(R_{7})} = \\frac{\\frac{10}{37} * \\frac{1}{8}}{P(R_{7})}$$\n",
    "$$= 0.901201602136$$"
   ]
  },
  {
   "cell_type": "markdown",
   "metadata": {},
   "source": [
    "***\n",
    "### Part C: Are the events $R_7$ and $E$ independent?  Justify your answer **using math**."
   ]
  },
  {
   "cell_type": "markdown",
   "metadata": {},
   "source": [
    "**We know $P(Eight) \\cap P(R_{7})$ from part b ($\\frac{5}{148}$, for reference), and $P(Eight)$ and $P(R_{7})$. Mathematically, we should have:**\n",
    "$$P(Eight \\cap R_{7} = P(Eight)P(R_{7})$$\n",
    "$$\\frac{5}{148} = \\frac{10}{37}P(R_{7})$$\n",
    "$$\\frac{5}{148} \\ne \\frac{749}{73926}$$\n",
    "\n",
    "**So, we know the events are dependent.**"
   ]
  },
  {
   "cell_type": "markdown",
   "metadata": {},
   "source": [
    "*** \n",
    "### Part D:  Suppose you roll your die $n$ times and record each outcome.  Obviously, if you roll 7 or 8 you know you did *not* pick a Six-sided die, and if you roll a 9 or higher, you must have picked a Twenty-sided die.\n",
    "\n",
    "But, if you roll $n$ times in a row and get only 1, 2, 3, 4, 5, or 6 you would have a stronger belief that you in fact grabbed one of the Six-sided dice.  Let $L_n$ be the event that you roll $n$ rolls of 1, 2, 3, 4, 5, or 6 in a row.  For example, one outcome in $L_3$ is the sequence 2, 3, 1.\n",
    "\n",
    "Given that you roll a single value of 1, 2, 3, 4, 5, or 6, what is the probability that you have grabbed a Six-sided die?  That is, calculate **by hand** $P(S \\mid L_1)$."
   ]
  },
  {
   "cell_type": "markdown",
   "metadata": {},
   "source": [
    "**Note, I'm going to dub $P(L_{1}) = \\frac{25}{37} * \\frac{1}{6} + \\frac{10}{37} * \\frac{1}{8} + \\frac{2}{37} * \\frac{1}{20}$ (Chance of picking a d6 and rolling the value + chance of picking a d8 and rolling the value + chance of picking up a d20 and rolling the value).**\n",
    "\n",
    "$$P(S | L_{1}) = \\frac{P(S) \\cap P(L_{1})}{P(L_{1})}$$\n",
    "$$P(S | L_{1}) = \\frac{\\frac{25}{37} * \\frac{1}{6}}{P(L_{1})}$$\n",
    "$$ = 0.755287009063$$"
   ]
  },
  {
   "cell_type": "markdown",
   "metadata": {},
   "source": [
    "***\n",
    "### Part E:  \n",
    "\n",
    "First, work out **by hand** a formula for the probability in general that you are rolling a Six-sided die, given that you have rolled $n$ values in a row that are 1, 2, 3, 4, 5 or 6 (that is, $L_n$).  So you want a formula for $P(S \\mid L_n)$ in terms of $n$.\n",
    "\n",
    "Then, define a function `prob_six` to calculate $P(S \\mid L_n)$.  This function should only take one positive integer argument, $n$.\n",
    "\n",
    "Verify that your function is performing as expected by checking your answer to **Part D**."
   ]
  },
  {
   "cell_type": "markdown",
   "metadata": {},
   "source": [
    "$$P(L_{n}) = \\frac{25}{37} * \\frac{1}{6^{n}} + \\frac{10}{37} * \\frac{1}{8^{n}} + \\frac{2}{37} * \\frac{1}{20^{n}}$$\n",
    "$$P(S | L_{n}) = \\frac{\\frac{25}{37} * \\frac{1}{6^{n}}}{P(L_{n})}$$"
   ]
  },
  {
   "cell_type": "code",
   "execution_count": 6,
   "metadata": {},
   "outputs": [
    {
     "name": "stdout",
     "output_type": "stream",
     "text": [
      "0.755287009063444\n"
     ]
    }
   ],
   "source": [
    "def prob_six(n):\n",
    "    \n",
    "    L_n = (25 / 37) * (1/pow(6, n)) + (10/37) * (1/pow(8, n)) + (2/37) * (1/pow(20,n))\n",
    "    \n",
    "    PSL_n = ((25 / 37) * (1/(pow(6, n)))) / L_n\n",
    "    \n",
    "    return PSL_n\n",
    "\n",
    "# Verification of Part D answer:  plug in n=1\n",
    "print(prob_six(1))"
   ]
  },
  {
   "cell_type": "markdown",
   "metadata": {},
   "source": [
    "***\n",
    "### Part F:  What is the smallest value of $n$ successive rolls of 1, 2, 3, 4, 5 or 6 that would make you believe that there's a better-than-95% chance that the die you grabbed is Six-sided?  Plugging larger and larger values for $n$ into your `prob_six` function is a very reasonable way to check this."
   ]
  },
  {
   "cell_type": "code",
   "execution_count": 7,
   "metadata": {},
   "outputs": [
    {
     "name": "stdout",
     "output_type": "stream",
     "text": [
      "0.949297047289715\n",
      "0.9614918524668586\n"
     ]
    }
   ],
   "source": [
    "#code\n",
    "print(prob_six(7))\n",
    "print(prob_six(8))\n",
    "\n",
    "# Technically, it'd be somewhere between 7 and 8 rolls, but that's not physically possible, so we'd go with 8."
   ]
  },
  {
   "cell_type": "markdown",
   "metadata": {},
   "source": [
    "[Back to top](#top)\n",
    "<a/ id='p3'></a>\n",
    "\n",
    "## (5 pts) Problem 3 (Theory): It's probably Bayes\n",
    "***\n"
   ]
  },
  {
   "cell_type": "markdown",
   "metadata": {},
   "source": [
    "To get published in an academic journal, you have to prove something \"interesting.\"  As a result, most academics begin their research by investigating hypotheses that, all else equal, are unlikely to be true.  Suppose each research project begins with a research *hypothesis* that has a 7% chance of being correct.\n",
    "\n",
    "They then perform a study that satisfies the following two properties:\n",
    "\n",
    "    1) The probability that they correctly *find* an important result given that their *hypothesis* is true is 50%\n",
    "    2) The probability that they incorrectly *find* an important result given that their *hypothesis* is false is 5%\n",
    "\n",
    "If they *find* an important result they are published.  What is the probability that their *hypothesis* was true, given that they were published?"
   ]
  },
  {
   "cell_type": "markdown",
   "metadata": {},
   "source": [
    "**We'll use Bayes Theorem to solve this. We will set A to hypothesis = true, and B to published.**\n",
    "\n",
    "**Probability of being published if the hypothesis is true/P(B|A) = 50% (hypothesis true, important result) of 100% (being published if imporant result) = 50%**\n",
    "\n",
    "**Probability of hypothesis being true in general = 7%**\n",
    "\n",
    "**Probability of being published in general = 50% (important find, hypothesis true) + 5% (important find, hypothesis false) = 55%**\n",
    "\n",
    "$$P(A|B) = \\frac{P(B|A)P(A)}{P(B)}$$\n",
    "$$P(A|B) = \\frac{0.5 * 0.07}{0.55}$$\n",
    "$$P(A|B) = 0.0636363636364, \\text{or } 6.36\\text{%}$$"
   ]
  },
  {
   "cell_type": "markdown",
   "metadata": {},
   "source": [
    "[Back to top](#top)"
   ]
  }
 ],
 "metadata": {
  "kernelspec": {
   "display_name": "Python 3",
   "language": "python",
   "name": "python3"
  },
  "language_info": {
   "codemirror_mode": {
    "name": "ipython",
    "version": 3
   },
   "file_extension": ".py",
   "mimetype": "text/x-python",
   "name": "python",
   "nbconvert_exporter": "python",
   "pygments_lexer": "ipython3",
   "version": "3.8.6"
  }
 },
 "nbformat": 4,
 "nbformat_minor": 4
}
