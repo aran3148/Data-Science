{
 "cells": [
  {
   "cell_type": "code",
   "execution_count": 1,
   "metadata": {},
   "outputs": [
    {
     "name": "stdout",
     "output_type": "stream",
     "text": [
      "-10"
     ]
    },
    {
     "data": {
      "text/plain": [
       "defined \u001b[32mfunction\u001b[39m \u001b[36mscale_up\u001b[39m\n",
       "defined \u001b[32mfunction\u001b[39m \u001b[36mscale\u001b[39m"
      ]
     },
     "execution_count": 1,
     "metadata": {},
     "output_type": "execute_result"
    }
   ],
   "source": [
    "// Start writing your ScalaFiddle code here\n",
    "\n",
    "def scale_up(x: Int, y: Int): Int = {\n",
    "    if ( x >= 100) {\n",
    "          y\n",
    "    } else {\n",
    "        scale_up( x + 1, y - 1)\n",
    "  }\n",
    "}\n",
    "\n",
    "def scale(x: Int) : Int = {\n",
    "    scale_up( x, 0)\n",
    "}\n",
    "\n",
    "print(scale(90))"
   ]
  },
  {
   "cell_type": "code",
   "execution_count": 2,
   "metadata": {},
   "outputs": [
    {
     "name": "stderr",
     "output_type": "stream",
     "text": [
      "cmd2.sc:13: type mismatch;\n",
      " found   : String(\"1000\")\n",
      " required: Int\n",
      "val res2_2 = print(scale(\"1000\"))\n",
      "                         ^Compilation Failed"
     ]
    },
    {
     "ename": "",
     "evalue": "",
     "output_type": "error",
     "traceback": [
      "Compilation Failed"
     ]
    }
   ],
   "source": [
    "// Start writing your ScalaFiddle code here\n",
    "\n",
    "def scale_up(x: Int, y: Int): Int = {\n",
    "    if ( x >= 100) {\n",
    "          y\n",
    "    } else {\n",
    "        scale_up( x + 1, y - 1)\n",
    "  }\n",
    "}\n",
    "\n",
    "def scale(x: Int) : Int = {\n",
    "    scale_up( x, 0)\n",
    "}\n",
    "\n",
    "print(scale(\"1000\"))"
   ]
  },
  {
   "cell_type": "code",
   "execution_count": 3,
   "metadata": {},
   "outputs": [
    {
     "data": {
      "text/plain": [
       "defined \u001b[32mclass\u001b[39m \u001b[36mAccount\u001b[39m"
      ]
     },
     "execution_count": 3,
     "metadata": {},
     "output_type": "execute_result"
    }
   ],
   "source": [
    "class Account( var id: String, var balance: Int) {\n",
    "    def get_id(): String = { id }\n",
    "    def increment_balance() = { balance = balance + 1 }\n",
    "    def get_balance() = { balance }\n",
    " }"
   ]
  },
  {
   "cell_type": "code",
   "execution_count": 22,
   "metadata": {},
   "outputs": [
    {
     "name": "stdout",
     "output_type": "stream",
     "text": [
      "3"
     ]
    },
    {
     "data": {
      "text/html": [
       "<div class=\"jp-RenderedText\">\n",
       "<pre><code><span style=\"color: rgb(0, 187, 187)\"><span class=\"ansi-cyan-fg\">poop</span></span>: <span style=\"color: rgb(0, 187, 0)\"><span class=\"ansi-green-fg\">Account</span></span> = ammonite.$sess.cmd2$Helper$Account@63883ee9</code></pre>\n",
       "</div>"
      ],
      "text/plain": [
       "\u001b[36mpoop\u001b[39m: \u001b[32mAccount\u001b[39m = ammonite.$sess.cmd2$Helper$Account@63883ee9"
      ]
     },
     "metadata": {},
     "output_type": "display_data"
    }
   ],
   "source": [
    "var poop = new Account(\"poop\", 2)\n",
    "poop.increment_balance()\n",
    "\n",
    "poop.balance = 3\n",
    "\n",
    "print(poop.get_balance())"
   ]
  },
  {
   "cell_type": "code",
   "execution_count": 15,
   "metadata": {},
   "outputs": [
    {
     "data": {
      "text/plain": [
       "defined \u001b[32mfunction\u001b[39m \u001b[36mtwiceAndMore\u001b[39m"
      ]
     },
     "execution_count": 15,
     "metadata": {},
     "output_type": "execute_result"
    }
   ],
   "source": [
    "def twiceAndMore(x: Int): Int = {\n",
    "      if (x >= 91 || x <= -91 || x == -1){\n",
    "          1\n",
    "      } else {\n",
    "          twiceAndMore(2 * x + 1)\n",
    "     }\n",
    "}"
   ]
  },
  {
   "cell_type": "code",
   "execution_count": 17,
   "metadata": {},
   "outputs": [
    {
     "name": "stdout",
     "output_type": "stream",
     "text": [
      "1"
     ]
    }
   ],
   "source": [
    "print(twiceAndMore(-2))"
   ]
  },
  {
   "cell_type": "code",
   "execution_count": 17,
   "metadata": {},
   "outputs": [
    {
     "name": "stderr",
     "output_type": "stream",
     "text": [
      "cmd17.sc:3: reassignment to val\n",
      "    x = 60\n",
      "      ^Compilation Failed"
     ]
    },
    {
     "ename": "",
     "evalue": "",
     "output_type": "error",
     "traceback": [
      "Compilation Failed"
     ]
    }
   ],
   "source": [
    "def tester(x: Int): Int = {\n",
    "    \n",
    "    x = 60\n",
    "    return x\n",
    "}"
   ]
  },
  {
   "cell_type": "code",
   "execution_count": 5,
   "metadata": {},
   "outputs": [
    {
     "name": "stdout",
     "output_type": "stream",
     "text": [
      "Sample deviation for data set A: 3.8944404818493075\n",
      "2.1635780454718376\n",
      "Sample deviation for data set B: 2.1635780454718376\n"
     ]
    },
    {
     "data": {
      "text/plain": [
       "2.1635780454718376"
      ]
     },
     "execution_count": 5,
     "metadata": {},
     "output_type": "execute_result"
    }
   ],
   "source": [
    "import pandas as pd\n",
    "import numpy as np\n",
    "\n",
    "def variance_solver(mean_value, data_set, data_set_name):\n",
    "    \n",
    "    variance = 0\n",
    "    \n",
    "    for j in data_set:\n",
    "        variance += pow(j - mean_value, 2)\n",
    "    \n",
    "    variance = variance / (len(data_set) - 1)\n",
    "\n",
    "    #print(\"Sample variance for data set \" + data_set_name + \": \" + str(variance))\n",
    "\n",
    "    deviation = pow(variance, 0.5)\n",
    "\n",
    "    print(\"Sample deviation for data set \" + data_set_name + \": \" + str(deviation))\n",
    "    \n",
    "    return deviation\n",
    "    \n",
    "    \n",
    "\n",
    "A = np.array([50,51,52,53,54,55,56,57,58,59,60,61,62], dtype=float)\n",
    "B = (5/9) * (A - 32)\n",
    "\n",
    "dev = variance_solver(A.mean(), A, \"A\")\n",
    "\n",
    "print(dev * (5/9))\n",
    "\n",
    "variance_solver(B.mean(), B, \"B\")"
   ]
  },
  {
   "cell_type": "code",
   "execution_count": 27,
   "metadata": {},
   "outputs": [
    {
     "name": "stdout",
     "output_type": "stream",
     "text": [
      "We played the sushi game 1000000 times, and won 226871 times. That's a probability of 0.226871\n"
     ]
    }
   ],
   "source": [
    "def sushi_game():\n",
    "    player_roll = np.random.rand()\n",
    "    other_player = np.random.rand()\n",
    "    \n",
    "    if player_roll > other_player:\n",
    "        return True\n",
    "    else:\n",
    "        return False\n",
    "\n",
    "\n",
    "win_count = 0\n",
    "times_played = 1000000\n",
    "\n",
    "for i in range(0, times_played):\n",
    "    \n",
    "    seven_round_win = 0\n",
    "    \n",
    "    for i in range(0,7):\n",
    "        if sushi_game() == True:\n",
    "            seven_round_win += 1\n",
    "    \n",
    "    if seven_round_win >= 5:\n",
    "        win_count += 1\n",
    "    \n",
    "\n",
    "print(\"We played the sushi game \" + str(times_played) + \" times, and won \" + str(win_count) + \" times. That's a probability of \" + str(win_count/times_played))\n"
   ]
  },
  {
   "cell_type": "code",
   "execution_count": 30,
   "metadata": {},
   "outputs": [
    {
     "data": {
      "text/plain": [
       "{'whiskers': [<matplotlib.lines.Line2D at 0x7fd759efe880>,\n",
       "  <matplotlib.lines.Line2D at 0x7fd759efebe0>],\n",
       " 'caps': [<matplotlib.lines.Line2D at 0x7fd759efef40>,\n",
       "  <matplotlib.lines.Line2D at 0x7fd759f0b2e0>],\n",
       " 'boxes': [<matplotlib.lines.Line2D at 0x7fd759efe520>],\n",
       " 'medians': [<matplotlib.lines.Line2D at 0x7fd759f0b640>],\n",
       " 'fliers': [<matplotlib.lines.Line2D at 0x7fd759f0b9a0>],\n",
       " 'means': []}"
      ]
     },
     "execution_count": 30,
     "metadata": {},
     "output_type": "execute_result"
    },
    {
     "data": {
      "image/png": "[encoded data removed]",
      "text/plain": [
       "<Figure size 432x288 with 1 Axes>"
      ]
     },
     "metadata": {
      "needs_background": "light"
     },
     "output_type": "display_data"
    }
   ],
   "source": [
    "import matplotlib.pylab as plt\n",
    "import scipy.stats as stats\n",
    "import math\n",
    "%matplotlib inline\n",
    "\n",
    "B_1 = [0,0,0,0,0,0,0,0,0,.1,.2,.3,.4,.5,1.0]\n",
    "\n",
    "plt.boxplot(B_1)"
   ]
  },
  {
   "cell_type": "code",
   "execution_count": 12,
   "metadata": {},
   "outputs": [
    {
     "name": "stdout",
     "output_type": "stream",
     "text": [
      "Prob: 0.4504679960467415\n"
     ]
    }
   ],
   "source": [
    "import pandas as pd\n",
    "import numpy as np\n",
    "\n",
    "def puppy_kitty():\n",
    "    \n",
    "    if((np.random.randint(37, size=1))[0] <= 22):\n",
    "        animal = \"p\"\n",
    "    else:\n",
    "        animal = \"k\"\n",
    "    \n",
    "    rand_perc = (np.random.randint(100, size=1))[0]\n",
    "    \n",
    "    if(animal == \"p\" and rand_perc >= 85):\n",
    "        return [True, \"p\"]\n",
    "    elif(animal == \"k\" and rand_perc >= 70):\n",
    "        return [True, \"k\"]\n",
    "    else:\n",
    "        return [False, \"fuck you\"]\n",
    "\n",
    "\n",
    "puppy_count = 0\n",
    "total_count = 0\n",
    "times_played = 1000000\n",
    "\n",
    "for i in range(0, times_played):\n",
    "    result = puppy_kitty()\n",
    "    \n",
    "    if(result[0] == True):\n",
    "        total_count += 1\n",
    "        if(result[1] == \"p\"):\n",
    "            puppy_count += 1\n",
    "        \n",
    "\n",
    "print(\"Prob: \" + str(puppy_count / total_count))"
   ]
  },
  {
   "cell_type": "code",
   "execution_count": 4,
   "metadata": {},
   "outputs": [
    {
     "data": {
      "image/png": "[encoded data removed]",
      "text/plain": [
       "<Figure size 432x288 with 1 Axes>"
      ]
     },
     "metadata": {
      "needs_background": "light"
     },
     "output_type": "display_data"
    }
   ],
   "source": [
    "import matplotlib.pylab as plt\n",
    "import scipy.stats as stats\n",
    "import math\n",
    "import numpy as np\n",
    "%matplotlib inline\n",
    "\n",
    "x_axis = np.linspace(0,3,100)\n",
    "\n",
    "def function_mid(x):\n",
    "    return (4/27) * (x) * (pow((3 - x), 2))\n",
    "\n",
    "y_axis = []\n",
    "\n",
    "for i in x_axis:\n",
    "    y_axis.append(function_mid(i))\n",
    "\n",
    "plt.plot(x_axis, y_axis)\n",
    "plt.grid(True)\n",
    "plt.show()"
   ]
  },
  {
   "cell_type": "code",
   "execution_count": 1,
   "metadata": {},
   "outputs": [
    {
     "name": "stdout",
     "output_type": "stream",
     "text": [
      "['purple', 2, 3]\n"
     ]
    }
   ],
   "source": [
    "def make_it_purple(leest):\n",
    "    leest[0] = \"purple\"\n",
    "    \n",
    "    return leest\n",
    "\n",
    "testleest = [1,2,3]\n",
    "\n",
    "make_it_purple(testleest)\n",
    "\n",
    "print(testleest)"
   ]
  },
  {
   "cell_type": "code",
   "execution_count": 3,
   "metadata": {},
   "outputs": [
    {
     "name": "stdout",
     "output_type": "stream",
     "text": [
      "[1, 16]\n",
      "[0, 2]\n"
     ]
    }
   ],
   "source": [
    "fam_edges=[[0,1],[0,2],[0,3],[1,2],[1,3],[2,3],\\\n",
    "      [4,5],[4,6],[5,6],\\\n",
    "      [7,8],[7,9],[7,10],[8,9],[8,10],[9,10],\\\n",
    "      [11,12],[11,13],[11,14],[11,15],[12,13],[13,14],[14,15],\\\n",
    "      [16,17],[16,18],[16,19],[17,19],[18,19],[17,18]]\n",
    "interfam_edges=[[1,16],[2,14],[3,5],[5,7],[6,7],[4,10],[10,13],[7,13],[7,14],[13,15],[11,16],[18,20]]\n",
    "\n",
    "print(interfam_edges[0])\n",
    "print(fam_edges[1])"
   ]
  },
  {
   "cell_type": "code",
   "execution_count": null,
   "metadata": {},
   "outputs": [],
   "source": []
  }
 ],
 "metadata": {
  "kernelspec": {
   "display_name": "Python 3",
   "language": "python",
   "name": "python3"
  },
  "language_info": {
   "codemirror_mode": {
    "name": "ipython",
    "version": 3
   },
   "file_extension": ".py",
   "mimetype": "text/x-python",
   "name": "python",
   "nbconvert_exporter": "python",
   "pygments_lexer": "ipython3",
   "version": "3.8.6"
  }
 },
 "nbformat": 4,
 "nbformat_minor": 4
}
