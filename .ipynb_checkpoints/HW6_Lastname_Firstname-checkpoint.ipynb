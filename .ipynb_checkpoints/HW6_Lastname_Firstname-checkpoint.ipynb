{
 "cells": [
  {
   "cell_type": "markdown",
   "metadata": {},
   "source": [
    "<a id='top'></a>\n",
    "\n",
    "# CSCI3022 S21\n",
    "# Homework 6: Testing\n",
    "***\n",
    "\n",
    "**Name**: Ara Anner\n",
    "\n",
    "***\n",
    "\n",
    "This assignment is due on Canvas by **MIDNIGHT on Friday, April 15**. Your solutions to theoretical questions should be done in Markdown directly below the associated question.  Your solutions to computational questions should include any specified Python code and results as well as written commentary on your conclusions.  Remember that you are encouraged to discuss the problems with your classmates, but **you must write all code and solutions on your own**.\n",
    "\n",
    "**NOTES**: \n",
    "\n",
    "- Any relevant data sets should be available on Canvas. To make life easier on the graders if they need to run your code, do not change the relative path names here. Instead, move the files around on your computer.\n",
    "- If you're not familiar with typesetting math directly into Markdown then by all means, do your work on paper first and then typeset it later.  Here is a [reference guide](https://math.meta.stackexchange.com/questions/5020/mathjax-basic-tutorial-and-quick-reference) linked on Canvas on writing math in Markdown. **All** of your written commentary, justifications and mathematical work should be in Markdown.  I also recommend the [wikibook](https://en.wikibooks.org/wiki/LaTeX) for LaTex.\n",
    "- Because you can technically evaluate notebook cells is a non-linear order, it's a good idea to do **Kernel $\\rightarrow$ Restart & Run All** as a check before submitting your solutions.  That way if we need to run your code you will know that it will work as expected. \n",
    "- It is **bad form** to make your reader interpret numerical output from your code.  If a question asks you to compute some value from the data you should show your code output **AND** write a summary of the results in Markdown directly below your code. \n",
    "- 45 points of this assignment are in problems.  The remaining 5 are for neatness, style, and overall exposition of both code and text.\n",
    "- This probably goes without saying, but... For any question that asks you to calculate something, you **must show all work and justify your answers to receive credit**. Sparse or nonexistent work will receive sparse or nonexistent credit. \n",
    "\n",
    "---\n",
    "**Shortcuts:**  [Problem 1](#p1) | [Problem 2](#p2) | [Problem 3](#p3) |\n",
    "---"
   ]
  },
  {
   "cell_type": "code",
   "execution_count": 42,
   "metadata": {},
   "outputs": [],
   "source": [
    "import pandas as pd\n",
    "import numpy as np\n",
    "import matplotlib.pylab as plt\n",
    "import scipy.stats as stats\n",
    "%matplotlib inline"
   ]
  },
  {
   "cell_type": "markdown",
   "metadata": {},
   "source": [
    "<br>\n",
    "\n",
    "---\n",
    "<a/ id='p1'></a>\n",
    "[Back to top](#top)\n",
    "## [25 points] Problem 1 - Mins or Maxs?\n",
    "\n",
    "It's a common data science and numeric problem to need to find **best** estimators, which often represent maximums of \"value\" functions or minimums of \"loss\" functions.  In this problem we explore the way that minimums and maximums interact with one another.\n",
    "\n",
    "Consider rolling some fair, independent, 10-sided dice, with faces [1,2,3,...,10].\n",
    "\n",
    "#### Part a) Maximums\n",
    "\n",
    "Suppose we roll 2 such 10-sided die.  Denote $M:=$ the maximum of the two rolls (we will refer to this as the roller having \"advantage\" when trying to achieve a high roll in a die-rolling game).\n",
    "\n",
    "i) Use markdown to express the exact pdf of $M$.\n",
    "\n",
    "ii) Print the expected value of $M$.\n",
    "\n",
    "iii) Print the variance of $M$.\n"
   ]
  },
  {
   "cell_type": "markdown",
   "metadata": {},
   "source": [
    "**Exact PDF:**\n",
    "\n",
    "Possible Combinations: 100\n",
    "\n",
    "$M = 1$, 1 combination $(1, 1)$, $P = \\frac{1}{100}$\n",
    "\n",
    "$M = 2$, 3 combinations $(1, 2), (2, 1), (2, 2)$, $P = \\frac{3}{100}$\n",
    "\n",
    "$M = 3$, 5 combinations $(1, 3), (2, 3), (3, 3), (3, 2), (3, 1)$, $P = \\frac{5}{100}$\n",
    "\n",
    "$M = 4$, 7 combinations $(1, 4), (2, 4), (3, 4), (4, 4), (4, 3), (4, 2), (4, 1)$, $P = \\frac{7}{100}$\n",
    "\n",
    "This scales by two every time, so:\n",
    "\n",
    "$P(M = 5) = \\frac{9}{100}$\n",
    "\n",
    "$P(M = 6) = \\frac{11}{100}$\n",
    "\n",
    "$P(M = 7) = \\frac{13}{100}$\n",
    "\n",
    "$P(M = 8) = \\frac{15}{100}$\n",
    "\n",
    "$P(M = 9) = \\frac{17}{100}$\n",
    "\n",
    "$P(M = 10) = \\frac{19}{100}$\n",
    "\n",
    "Sanity Check: These *do* add up to 1, so we're good."
   ]
  },
  {
   "cell_type": "code",
   "execution_count": 43,
   "metadata": {},
   "outputs": [
    {
     "name": "stdout",
     "output_type": "stream",
     "text": [
      "Expected value = 7.15\n",
      "Variance: 0.05259911279353167\n"
     ]
    }
   ],
   "source": [
    "# ii)\n",
    "\n",
    "def expected_value(max_val):\n",
    "    \n",
    "    sum_val = 0\n",
    "    \n",
    "    for i in range(1, max_val + 1):\n",
    "        # Value = sum [x * P(x)]\n",
    "        sum_val += i * ((i + i - 1)/100)\n",
    "        \n",
    "    return sum_val\n",
    "\n",
    "print(\"Expected value = \" + str(expected_value(10)))\n",
    "\n",
    "# iii)\n",
    "\n",
    "def variance(n, samples):\n",
    "    \n",
    "    sum_val = 0\n",
    "    mean_val = np.mean(samples)\n",
    "    \n",
    "    for i in range(1, n):\n",
    "        # Value = sum [xi - mean]^2\n",
    "        sum_val += pow((samples[i] - mean_val), 2)\n",
    "    \n",
    "    sum_squar = sum_val / (n - 1)\n",
    "    \n",
    "    return (pow(sum_squar, 0.5))\n",
    "\n",
    "\n",
    "print(\"Variance: \" + str(variance(10, [1/100, 3/100, 5/100, 7/100, 9/100, 11/100, 13/100, 15/100, 17/100, 19/100])))"
   ]
  },
  {
   "cell_type": "markdown",
   "metadata": {},
   "source": [
    "\n",
    "#### Part b) Min-Max\n",
    "\n",
    "In the rest of this problem, we'll explore tacking **both** a minimum and a maximum.  In particular, we define the experiment of *min-max*, in which we compute the minimum of two maximum rolls.  Formally: we roll 2 dice and record their maximum $M_1$, then roll 2 more dice and record their maximum $M_2$.  Finally, we denote $mM:=$ the mimimun of the two $M_1$ and $M_2$ rolls.  We may refer to this as \"disadvantage-of-advantage.\"\n",
    "\n",
    "Set up a function to simulate $n=10^4$ draws from the $mM$ random variable.  Then, *simulate* and/or *bootstrap* with your function to answer the following:\n",
    "\n",
    "i) What is the pdf of $mM$?  Plot it as a histogram.\n",
    "\n",
    "ii) What is the expected value of $mM$?\n",
    "\n",
    "iii) What is the probability that an $mM$ random variable returns a value greater then 5? Construct both a point estimate and a 90\\% confidence interval for this value.\n",
    "\n",
    "For the bootstrapped CI in iii, it is recommended you group your $10^4$ trials into 100 groups of 100 trials in order to construct a distribution of sample probabilities."
   ]
  },
  {
   "cell_type": "code",
   "execution_count": 44,
   "metadata": {},
   "outputs": [
    {
     "data": {
      "image/png": "[encoded data removed]",
      "text/plain": [
       "<Figure size 432x288 with 1 Axes>"
      ]
     },
     "metadata": {
      "needs_background": "light"
     },
     "output_type": "display_data"
    },
    {
     "name": "stdout",
     "output_type": "stream",
     "text": [
      "Expected Value: 5.2797\n",
      "Point Estimate: 0.4728000000000001\n",
      "CI: (0.3906717938547299, 0.5549282061452703)\n"
     ]
    }
   ],
   "source": [
    "def min_max_fun():\n",
    "    # Roll the first two dice, get a max.\n",
    "    d1 = (np.random.randint(9, size=1))[0] + 1\n",
    "    d2 = (np.random.randint(9, size=1))[0] + 1\n",
    "    \n",
    "    M1 = max(d1,d2)\n",
    "    \n",
    "    # Roll the second two decide and record their max.\n",
    "    \n",
    "    d3 = (np.random.randint(9, size=1))[0] + 1\n",
    "    d4 = (np.random.randint(9, size=1))[0] + 1\n",
    "    \n",
    "    M2 = max(d3,d4)\n",
    "    \n",
    "    # mM = the minimum.\n",
    "    \n",
    "    mM = min(M1, M2)\n",
    "    \n",
    "    # Return mM\n",
    "    \n",
    "    return mM\n",
    "    \n",
    "def part_b(n):\n",
    "    \n",
    "    mM_lis = []\n",
    "    \n",
    "    for i in range(0, n):\n",
    "        \n",
    "        mM_lis.append(min_max_fun())\n",
    "    \n",
    "    # Histogram:\n",
    "    \n",
    "    plt.hist(mM_lis, bins = 10) # Putting 10 bins for now\n",
    "\n",
    "    plt.xlabel('Mins of Max Rolls/min(M1,M2)')\n",
    "    plt.ylabel('# of Rolls')\n",
    "\n",
    "    plt.show()\n",
    "    \n",
    "    # EV:\n",
    "    \n",
    "    sortd = sorted(mM_lis) # Sort the list.\n",
    "    \n",
    "    mean_val = np.mean(sortd) # Get the mean.\n",
    "    \n",
    "    # Summation math here\n",
    "    \n",
    "    EV = 0\n",
    "    \n",
    "    for i in range(1, max(sortd) + 1):\n",
    "        # Value = sum [x * P(x)]\n",
    "        EV += i * (sortd.count(i) / n)\n",
    "    \n",
    "    print(\"Expected Value: \" + str(EV))\n",
    "    \n",
    "    # Probability greater than 5 (point-estimate and 90% CI) (group in 100 groups of 100 trials)\n",
    "    \n",
    "    p_list = []\n",
    "    \n",
    "    for i in range(0, len(mM_lis), 100):\n",
    "        \n",
    "        holder = mM_lis[i:i + 100] # Isolate the 100 samples.\n",
    "        \n",
    "        p = 0\n",
    "        \n",
    "        for j in range(0, len(holder)):\n",
    "            if holder[j] > 5:\n",
    "                p += 1\n",
    "        \n",
    "        p_list.append(p / 100)\n",
    "        \n",
    "    \n",
    "    p = np.mean(p_list)\n",
    "    z = 1.645 # Looked this up to double-check\n",
    "        \n",
    "    CI_upper = p + z * pow(((p * (1 - p)) / 100), 0.5)\n",
    "    CI_lower = p - z * pow(((p * (1 - p)) / 100), 0.5)\n",
    "        \n",
    "    print(\"Point Estimate: \" + str(p))\n",
    "    print(\"CI: (\" + str(CI_lower) + \", \" + str(CI_upper) + \")\")\n",
    "        \n",
    "part_b(pow(10, 4))"
   ]
  },
  {
   "cell_type": "markdown",
   "metadata": {},
   "source": [
    "\n",
    "#### Part c) Max-min\n",
    "\n",
    "Now, define the experiment of *max-min*, in which we compute the maximum of two minumum rolls.  Formally: we roll 2 dice and record their minimum $m_1$, then roll 2 more dice and record their minimum $m_2$.  Finally, we denote $Mm:=$ the maximum of the two $m_1$ and $m_2$ rolls.  We may refer to this as \"advantage-of-disadvantage.\"\n",
    "\n",
    "Set up a function to simulate $n$ draws from the $Mm$ random variable.  Then, *simulate* and/or *bootstrap* with your function to answer the following:\n",
    "\n",
    "i) What is the pdf of $Mm$?  Plot it as a histogram.\n",
    "\n",
    "ii) What is the expected value of $Mm$?\n",
    "\n",
    "iii) What is the probability that an $Mm$ random variable returns a value greater then 5?   Construct both a point estimate and a 90\\% confidence interval for this value.\n",
    "\n",
    "\n"
   ]
  },
  {
   "cell_type": "code",
   "execution_count": 45,
   "metadata": {},
   "outputs": [
    {
     "data": {
      "image/png": "[encoded data removed]",
      "text/plain": [
       "<Figure size 432x288 with 1 Axes>"
      ]
     },
     "metadata": {
      "needs_background": "light"
     },
     "output_type": "display_data"
    },
    {
     "name": "stdout",
     "output_type": "stream",
     "text": [
      "Expected Value: 4.7081\n",
      "Point Estimate: 0.36349999999999993\n",
      "CI: (0.28437434577245185, 0.442625654227548)\n"
     ]
    }
   ],
   "source": [
    "def min_max_fun():\n",
    "    # Roll the first two dice, get a max.\n",
    "    d1 = (np.random.randint(9, size=1))[0] + 1\n",
    "    d2 = (np.random.randint(9, size=1))[0] + 1\n",
    "    \n",
    "    M1 = min(d1,d2)\n",
    "    \n",
    "    # Roll the second two decide and record their max.\n",
    "    \n",
    "    d3 = (np.random.randint(9, size=1))[0] + 1\n",
    "    d4 = (np.random.randint(9, size=1))[0] + 1\n",
    "    \n",
    "    M2 = min(d3,d4)\n",
    "    \n",
    "    # mM = the minimum.\n",
    "    \n",
    "    mM = max(M1, M2)\n",
    "    \n",
    "    # Return mM\n",
    "    \n",
    "    return mM\n",
    "    \n",
    "def part_b(n):\n",
    "    \n",
    "    mM_lis = []\n",
    "    \n",
    "    for i in range(0, n):\n",
    "        \n",
    "        mM_lis.append(min_max_fun())\n",
    "    \n",
    "    # Histogram:\n",
    "    \n",
    "    plt.hist(mM_lis, bins = 10) # Putting 10 bins for now\n",
    "\n",
    "    plt.xlabel('Maxs of Min Rolls/min(M1,M2)')\n",
    "    plt.ylabel('# of Rolls')\n",
    "\n",
    "    plt.show()\n",
    "    \n",
    "    # EV:\n",
    "    \n",
    "    sortd = sorted(mM_lis) # Sort the list.\n",
    "    \n",
    "    mean_val = np.mean(sortd) # Get the mean.\n",
    "    \n",
    "    # Summation math here\n",
    "    \n",
    "    EV = 0\n",
    "    \n",
    "    for i in range(1, max(sortd) + 1):\n",
    "        # Value = sum [x * P(x)]\n",
    "        EV += i * (sortd.count(i) / n)\n",
    "    \n",
    "    print(\"Expected Value: \" + str(EV))\n",
    "    \n",
    "    # Probability greater than 5 (point-estimate and 90% CI) (group in 100 groups of 100 trials)\n",
    "    \n",
    "    p_list = []\n",
    "    \n",
    "    for i in range(0, len(mM_lis), 100):\n",
    "        \n",
    "        holder = mM_lis[i:i + 100] # Isolate the 100 samples.\n",
    "        \n",
    "        p = 0\n",
    "        \n",
    "        for j in range(0, len(holder)):\n",
    "            if holder[j] > 5:\n",
    "                p += 1\n",
    "        \n",
    "        p_list.append(p / 100)\n",
    "        \n",
    "    \n",
    "    p = np.mean(p_list)\n",
    "    z = 1.645 # Looked this up to double-check\n",
    "        \n",
    "    CI_upper = p + z * pow(((p * (1 - p)) / 100), 0.5)\n",
    "    CI_lower = p - z * pow(((p * (1 - p)) / 100), 0.5)\n",
    "        \n",
    "    print(\"Point Estimate: \" + str(p))\n",
    "    print(\"CI: (\" + str(CI_lower) + \", \" + str(CI_upper) + \")\")\n",
    "        \n",
    "part_b(pow(10, 4))"
   ]
  },
  {
   "cell_type": "markdown",
   "metadata": {},
   "source": [
    "\n",
    "#### Part d) Discussion\n",
    "\n",
    "Taking a look at your work in parts c or d, use full English sentences to answer the following:\n",
    "\n",
    "i) In general, which returns a higher value: the maximum of minimums or the minimum of maximums?\n",
    "\n",
    "ii) Is there ever a case to prefer a min-of-max rather than a max-of-mins?  Suppose the goal is to return \"a 2 or higher\", which do we prefer?  Is this a different best choice from the goal of \"need to return exactly a 20?\"\n",
    "\n",
    "iii) What happens if the number of rolls in the selection increases?  For example, if I roll 100 dice in total, and take as my random variable the minimum of 10 sets of 10 maximums, how should this differ from the distribution in part b)?  You may simulate to verify your result, but should try to explain in plain English either way?"
   ]
  },
  {
   "cell_type": "raw",
   "metadata": {},
   "source": [
    "i) In general, the higher one was the was the one from part c, the max of minimum rolls.\n",
    "\n",
    "ii) You'd prefer min-of-max in a situation where you wanted to roll under 5. In order to get a 2 or higher, it doesn't really matter as the expected value of the two is above 2, though I'd rather the max of the min rolls because it's the safer option. To roll exactly a 20, you'd need two 10s, and you can't really get that with either (due to the minimize function ran on both, there's no way you're going to get a 10 out of either, as 10 will always be bigger than the other number).\n",
    "\n",
    "iii) Theoretically, if you ran the tests multiple times, then they should vary more and not as-consistently hone in on the same point estimate and confidence interval."
   ]
  },
  {
   "cell_type": "markdown",
   "metadata": {},
   "source": [
    "<br>\n",
    "\n",
    "---\n",
    "<a/ id='p2'></a>\n",
    "[Back to top](#top)\n",
    "## [10 points] Problem 2 - A (very) small sample hypothesis test\n",
    "\n",
    "We're counting birds outside our work-from-home offices, and recording $X$, the number that pass between 2p-3p.  Let $X \\sim \\mathcal{P}(\\lambda)$. Suppose that we want to test the null hypothesis that $\\lambda = 15$, and the alternative hypothesis is that $\\lambda > 15$. Since we're just starting today, our sample size for this test is equal to 1.\n",
    "\t\n",
    "#### Part a)\n",
    " \n",
    "Naturally for a hypothesis test we might come up with a rejection region. Here, we will reject the null hypothesis if $X$ is greater than some number $c$ that represents \"too many birds\" for a process of $\\lambda = 15$. What value should we choose for $c$ such that the probability of a type I error is equal to $0.05$?\n",
    "\n",
    "(NB: for a discrete R.V., we more precisely ensure that P(Type I error) *is not more than* $0.05$)\n"
   ]
  },
  {
   "cell_type": "markdown",
   "metadata": {},
   "source": [
    "$$H_{0} = \\lambda = 15$$\n",
    "\n",
    "If $\\alpha = 0.05$, then $z_{\\alpha} = 1.645$.\n",
    "\n",
    "Since our sample size is 1, and $\\lambda_{0} = 15$, the function so far looks like this:\n",
    "\n",
    "$$Z = \\frac{c - 15}{\\sqrt{15}}$$\n",
    "\n",
    "We know that $Z \\leq z_{\\alpha}$, since this is an upper-tail test (alt hypothesis is higher than the null), so we solve $c$ keeping in mind that bound.\n",
    "\n",
    "$$\\frac{1}{\\sqrt{15}}c - \\frac{15}{\\sqrt{15}} \\leq 1.645$$\n",
    "\n",
    "$$c \\leq 21.3710576045$$\n",
    "\n",
    "This is our bound for $c$."
   ]
  },
  {
   "cell_type": "markdown",
   "metadata": {},
   "source": [
    "\n",
    "#### Part b)\n",
    "\n",
    "If in reality, $\\lambda$ is *actually* equal to 20, what is the probability of making a type 2 error using the cut-off point from (a)?\n",
    "    \n",
    "    "
   ]
  },
  {
   "cell_type": "code",
   "execution_count": 46,
   "metadata": {},
   "outputs": [
    {
     "name": "stdout",
     "output_type": "stream",
     "text": [
      "There is a 0.3806277151759965 chance of making a Type II error using the 21.3710576045 cut-off point.\n"
     ]
    }
   ],
   "source": [
    "c = 21.3710576045\n",
    "\n",
    "z = (c - 20) / (np.sqrt(20))\n",
    "\n",
    "print(\"There is a \" + str(stats.norm.pdf(z)) + \" chance of making a Type II error using the 21.3710576045 cut-off point.\")"
   ]
  },
  {
   "cell_type": "markdown",
   "metadata": {},
   "source": [
    "<br>\n",
    "\n",
    "---\n",
    "<a/ id='p3'></a>\n",
    "[Back to top](#top)\n",
    "## [10 points] Problem 3 - The power!\n",
    "\n",
    "\n",
    "Let $Y$ be the number of heads in 100 tosses of a possibly biased coin, with probability of heads on any toss $p$. Similar to the Belgian Euro example, we hope to *test* whether the coin is biased **toward heads**.\n",
    "\n",
    "#### Part a)\n",
    "\n",
    "State the null and alternative hypotheses.\n"
   ]
  },
  {
   "cell_type": "markdown",
   "metadata": {},
   "source": [
    "Null Hypothesis: The coin is balanced. $Y = 50, p = 0.5$\n",
    "\n",
    "Alternate Hypothesis: The coin is unbalanced (biased towards heads). $Y > 50, p > 0.5$"
   ]
  },
  {
   "cell_type": "markdown",
   "metadata": {},
   "source": [
    "\n",
    "#### Part b)\n",
    "Suppose we define the rejection region to be $Y > 58$. \n",
    "\n",
    "Calculate the rate of type I error of this test. (For this, and all remaining parts, calculate probabilities **exactly**, i.e., without using a normal approximation)\n"
   ]
  },
  {
   "cell_type": "code",
   "execution_count": 47,
   "metadata": {},
   "outputs": [
    {
     "name": "stdout",
     "output_type": "stream",
     "text": [
      "Type I Error Rate: 0.044313040057033785\n"
     ]
    }
   ],
   "source": [
    "# Used as reference: https://www.slader.com/discussion/question/we-are-interested-in-testing-whether-or-not-a-coin-is-balanced-based-on-the-number-of-heads/\n",
    "# 𝛼 is the chance that the test gives us a result in the rejection region if H_0 is true\n",
    "    # P(Y > 58) when p = 0.5\n",
    "\n",
    "import math\n",
    "    \n",
    "sum_val = 0\n",
    "\n",
    "n = 58\n",
    "\n",
    "for y in range(n + 1, 100): # Since it's not 58-inclusive, we'll start on 59\n",
    "    combinatric = math.factorial(100) / (math.factorial(y) * math.factorial(100 - y))\n",
    "    sum_val += combinatric * pow(0.5, y) * pow(0.5, 100 - y)\n",
    "\n",
    "print(\"Type I Error Rate: \" + str(sum_val))"
   ]
  },
  {
   "cell_type": "markdown",
   "metadata": {},
   "source": [
    "\n",
    "#### Part c)\n",
    "\n",
    "Simulate a single dataset (or appropriate summary of a dataset) under the null hypothesis, and apply your test from part (a). State your conclusion. Is your conclusion in error? If so, which type?\n",
    "\n",
    "Repeat this process 1000 times in total and verify that the error rate appears consistent with your calculations in part b).\n"
   ]
  },
  {
   "cell_type": "code",
   "execution_count": 48,
   "metadata": {},
   "outputs": [
    {
     "name": "stdout",
     "output_type": "stream",
     "text": [
      "Do not reject null hypothesis.\n",
      "z = 0.11596551211459483, z_a = 1.7026900915717653\n",
      "Theoretically, based on how I set this up, we should not be rejecting the null hypothesis as I'm testing a balanced coin.\n"
     ]
    }
   ],
   "source": [
    "def sim_single_dataset():\n",
    "    \n",
    "    # Flip a coin 100 times. \n",
    "    choices = [\"H\", \"T\"]\n",
    "    \n",
    "    heads_count = 0\n",
    "    \n",
    "    for i in range(0, 100):\n",
    "    \n",
    "        rand_ind = (np.random.randint(2, size=1))[0]\n",
    "        \n",
    "        if choices[rand_ind] == \"H\":\n",
    "            heads_count += 1\n",
    "    \n",
    "    return heads_count\n",
    "\n",
    "\n",
    "def sim_mult_data():\n",
    "    \n",
    "    heads_counts = []\n",
    "    over_50 = 0\n",
    "    \n",
    "    for i in range(0, 1000):\n",
    "        val = sim_single_dataset()\n",
    "        heads_counts.append(val)\n",
    "        \n",
    "        if val > 50:\n",
    "            over_50 += 1\n",
    "        \n",
    "    \n",
    "    # Conduct a z-test\n",
    "    \n",
    "    xbar = np.mean(heads_counts)\n",
    "    \n",
    "    z = (xbar - 50) / (np.sqrt(50/100))\n",
    "    \n",
    "    # We assume alt > nul, so this is upper-tailed.\n",
    "    \n",
    "    z_a = stats.norm.ppf(1 - sum_val)\n",
    "    \n",
    "    if z >= z_a:\n",
    "        print(\"Reject null hypothesis.\")\n",
    "    else:\n",
    "        print(\"Do not reject null hypothesis.\")\n",
    "    \n",
    "    print(\"z = \" + str(z) + \", z_a = \" + str(z_a))\n",
    "    \n",
    "    print(\"Theoretically, based on how I set this up, we should not be rejecting the null hypothesis as I'm testing a balanced coin.\")\n",
    "    \n",
    "sim_mult_data()\n"
   ]
  },
  {
   "cell_type": "raw",
   "metadata": {},
   "source": [
    "Seeing as how we're rejecting the null hypothesis when it is true, this is a Type I error."
   ]
  },
  {
   "cell_type": "markdown",
   "metadata": {},
   "source": [
    "\n",
    "#### Part d)\n",
    "Consider that the *reality* of a biased coin could take on any number of possible different values of actual bias $p$.  Construct a grid/list of possible values $p$ for the alternative hypothesis $p_{alt}=[0.51,0.52,0.53, \\dots .99, 1.00]$.\n",
    "\n",
    "For each value of $p$ in this list, calculate the power of the test from part $a$.  Return exact values rather than simulated/estimated probabilities.\n",
    "\n",
    "(Recall: statistical **power** is the probability of rejecting the null hypothesis while the alternative hypothesis is true). \n",
    "\n",
    "Plot the power ($y$-axis) against $p$ ($x$-axis) over each of these scenarios. \n",
    "\n",
    "Interpret/comment on this plot. Specifically, as $p$ gets *further* from the specified $p=p_0$ under the null hypothesis, what happens to the power?"
   ]
  },
  {
   "cell_type": "code",
   "execution_count": 55,
   "metadata": {},
   "outputs": [
    {
     "data": {
      "image/png": "[encoded data removed]",
      "text/plain": [
       "<Figure size 432x288 with 1 Axes>"
      ]
     },
     "metadata": {
      "needs_background": "light"
     },
     "output_type": "display_data"
    }
   ],
   "source": [
    "p_alt = []\n",
    "\n",
    "for i in range(51, 101): # Make it 1.01 so that it's 1.00-inclusive\n",
    "    p_alt.append(i)\n",
    "\n",
    "# Reject the null hypothesis if p_alt - 50 / sqrt(50/100) >= z_a, or sum_val\n",
    "\n",
    "y_ax = []\n",
    "\n",
    "for i in p_alt:\n",
    "    z = (i - 50) / (np.sqrt(50/100))\n",
    "    \n",
    "    xbar = 50 * (50/100) * z\n",
    "    \n",
    "    val = stats.norm.cdf((z - 50) / (50/np.sqrt(100)))\n",
    "\n",
    "    y_ax.append(val)\n",
    "\n",
    "plt.plot(p_alt, y_ax)\n",
    "plt.xlabel('p_alt value (%)')\n",
    "plt.ylabel('power')\n",
    "\n",
    "plt.show()\n",
    "\n",
    "# ///////////////////////// PLOT COMMENTS BELLOW /////////////////////////////////////////\n",
    "\n",
    "# Seems that as p gets further from the null hypothesis, the power gets closer to 1. It stays steady at first until about p = 0.8 / Y = 80,\n",
    "# and then it goes up from there."
   ]
  },
  {
   "cell_type": "markdown",
   "metadata": {},
   "source": [
    "#### Part e)\n",
    "\n",
    "(e) Suppose we allowed other rejection regions than $Y>58$.  Use the ideas in part (d) to answer the following: how many flips $m$ of a coin are necessary to achieve both $\\alpha=0.05$ **and** $\\beta=0.05$ for the hypothesis in part (a)?"
   ]
  },
  {
   "cell_type": "markdown",
   "metadata": {},
   "source": [
    "Since power = $1 - \\beta$, then according to the graph, $\\beta = 0.05$ is roughly at the $p_{alt}$ value of 95, so theoretically we'd need 95 coin flips."
   ]
  },
  {
   "cell_type": "code",
   "execution_count": null,
   "metadata": {},
   "outputs": [],
   "source": []
  }
 ],
 "metadata": {
  "kernelspec": {
   "display_name": "Python 3",
   "language": "python",
   "name": "python3"
  },
  "language_info": {
   "codemirror_mode": {
    "name": "ipython",
    "version": 3
   },
   "file_extension": ".py",
   "mimetype": "text/x-python",
   "name": "python",
   "nbconvert_exporter": "python",
   "pygments_lexer": "ipython3",
   "version": "3.8.6"
  }
 },
 "nbformat": 4,
 "nbformat_minor": 4
}
