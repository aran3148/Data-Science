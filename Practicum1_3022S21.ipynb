{
 "cells": [
  {
   "cell_type": "markdown",
   "metadata": {},
   "source": [
    "<a id='top'></a>\n",
    "\n",
    "# CSCI 3022: Intro to Data Science - Spring 2021 Practicum 1\n",
    "***\n",
    "\n",
    "This practicum is due on Canvas by **11:59 PM on Friday March 19*. Your solutions to theoretical questions should be done in Markdown/MathJax directly below the associated question.  Your solutions to computational questions should include any specified Python code and results as well as written commentary on your conclusions.  \n",
    "\n",
    "\n",
    "Note: There are a number of images in this problem.  If you can't get them to display properly, they are hosted [here](https://drive.google.com/drive/folders/1M4kBMd23roiDVnfbYQmPmzsR1bPZAxzX?usp=sharing).  \n",
    "\n",
    "**Here are the rules:** \n",
    "\n",
    "1. All work, code and analysis, must be your own. \n",
    "2. You may use your course notes, posted lecture slides, textbooks, in-class notebooks, and homework solutions as resources.  You may also search online for answers to general knowledge questions like the form of a probability distribution function or how to perform a particular operation in Python/Pandas. \n",
    "3. This is meant to be like a coding portion of your midterm exam. So, the instructional team will be a bit less helpful than we typically are with homework. For example, we will not check answers, significantly debug your code, and so on.  But please don't feel like you're totally alone on this: feel free to ask questions or ask for help, and we will decide how best to provide that assistance.\n",
    "4. If something is left open-ended, it is because we want to see how you approach the kinds of problems you will encounter in the wild, where it will not always be clear what sort of tests/methods should be applied. Feel free to ask clarifying questions though.\n",
    "5. You may **NOT** post to message boards or other online resources asking for help.\n",
    "6. You may **NOT** copy-paste solutions *from anywhere*.\n",
    "7. You may **NOT** collaborate with classmates or anyone else.\n",
    "8. In short, **your work must be your own**. It really is that simple.\n",
    "\n",
    "Violation of the above rules will result in an immediate academic sanction (*at the very least*, you will receive a 0 on this practicum or an F in the course, depending on severity), and a trip to the Honor Code Council.\n",
    "\n",
    "**By submitting this assignment, you agree to abide by the rules given above.**\n",
    "\n",
    "***\n",
    "\n",
    "**NOTES**: \n",
    "\n",
    "- You may not use late days on the practicums nor can you drop your practicum grades. \n",
    "- If you have a question for us, post it as a **PRIVATE** message on Piazza.  If we decide that the question is appropriate for the entire class, then we will add it to a Practicum clarifications thread. (NB: you should use public posts for the epidemiology \"warmup\" prompts).\n",
    "- Do **NOT** load or use any Python packages that are not available in Anaconda 3.6. The practicum is designed to be completed using only the packages in the first given code cell.\n",
    "- Some problems with code may be autograded.  If we provide a function API **do not** change it.  If we do not provide a function API then you're free to structure your code however you like. \n",
    "- Submit only this Jupyter notebook to Canvas.  Do not compress it using tar, rar, zip, etc. \n",
    "- This should go without saying, but... For any question that asks you to calculate something, you **must show all work to receive credit**. Sparse or nonexistent work will receive sparse or nonexistent credit.\n",
    "\n",
    "---\n",
    "**Shortcuts:**  [Problem 1](#p1) | [Problem 2](#p2) | [Bottom](#bot)\n",
    "\n",
    "---"
   ]
  },
  {
   "cell_type": "code",
   "execution_count": 1,
   "metadata": {},
   "outputs": [],
   "source": [
    "from scipy import stats\n",
    "import numpy as np \n",
    "import pandas as pd\n",
    "import matplotlib.pyplot as plt\n",
    "%matplotlib inline"
   ]
  },
  {
   "cell_type": "markdown",
   "metadata": {},
   "source": [
    "<br>\n",
    "\n",
    "---\n",
    "[Back to top](#top)\n",
    "<a id='p1'></a>\n",
    "\n",
    "## [40 points] Problem 1: Simulated Forest Cover"
   ]
  },
  {
   "cell_type": "markdown",
   "metadata": {},
   "source": [
    "In Boulder, Colorado people *love* trees.  So do we in CSCI3022!  So we're going to play around with a function that can be used to simulate, describe, and model tree cover.\n",
    "\n",
    "Recall that a **Poisson** distribution is meant to count the number of events per unit time.  It turns out, the Poisson function is able to count over more versatile spaces than just time.  It can also track points over space, area, or more abstract regions.  This means that a Poisson process is a powerful way to create descriptions of *random points*.  In our prior class exercises using random points (estimating $\\pi$ in nb04, stochastic integration in HW4) we simulated points *uniformly* in space and generated conclusions accordingly.  For something like tree cover, locations of trees are **not** independent and identically distributed: some areas are much denser than others!  This holds for many other processes describing random points: locations of defects in a manufacturing materials, locations of stars in the night sky, distribution of raisins in Zach's bag of granola, etc. \n",
    "\n",
    "\n",
    "To simulate from a **Poisson process**, we first determine the intensity $\\Lambda$ (capital $\\lambda$) at which events are occuring.  This rate can be in count-per-time, count-per-area, etc.  Since we're going to simulate tree cover, $\\Lambda$ will be measured in $\\frac{trees}{area}$.  Suppose our \"area\" is measured in acres.\n",
    "\n",
    "### To simulate from a Poisson point process with intensity/rate $\\Lambda$:\n",
    "\n",
    "- determine the size $|A|$ of the area $A$ you wish to populate with points (trees)\n",
    "- simulate $X$, a Poisson random variable with rate $\\lambda = \\Lambda |A|$.  This represents a count of the number of trees in area $A$.\n",
    "- simulate $X$ independent and identically distributed continuous uniform random variables inside the area $A$ (these are random locations/points as we've used previously; in 2-D each will contain both a random-x coordinate *and* a random-y coordinate)\n",
    "- Implementation note: If the boundary of a region $A$ is determined by a function, you can ensure that the points are continuous uniform *within* that region by simulating uniform points in a box or rectangle *covering* $A$ and discarding any points that aren't inside the boundaries of $A$, replacing with new random draws until you've reached $X$ total.\n",
    "- ... and that's it!  But now we can glue together regions of varying intensities $\\Lambda$ to represent different biomes, even down to \"trees along the irrigation ditch\" varying in intensity from \"trees in the green belt\" or \"trees in that ugly housing complex.\"\n",
    "\n"
   ]
  },
  {
   "cell_type": "markdown",
   "metadata": {},
   "source": [
    "** Part A **: Getting started\n",
    "\n",
    "First, simulate two sets of points from the unit square $[0,1] \\times [0,1]$.\n",
    "- set one should be from a Poisson point process with intensity 150.  You should *expect* around how many trees?\n",
    "- set two should be from a Poisson point process with intensity 75.  You should *expect* around how many trees?\n",
    "\n",
    "Plot the two sets in a figure side-by-side (one row, two columns) to verify that your code is working.  Make the points green, since they're trees."
   ]
  },
  {
   "cell_type": "code",
   "execution_count": 2,
   "metadata": {},
   "outputs": [
    {
     "data": {
      "image/png": "[encoded data removed]",
      "text/plain": [
       "<Figure size 432x288 with 1 Axes>"
      ]
     },
     "metadata": {
      "needs_background": "light"
     },
     "output_type": "display_data"
    },
    {
     "name": "stdout",
     "output_type": "stream",
     "text": [
      "Quick disclaimer that matplotlib artificially spaces out values so that the bars all fit on the y-axis-- values do not actually\n",
      " exceed 1 or go lower than 0.\n"
     ]
    }
   ],
   "source": [
    "#code for A\n",
    "\n",
    "# Set 1--------------------------------------------------------------------\n",
    "\n",
    "\n",
    "# |A| FOR BOTH SHOULD BE 1 x 1 = 1, so we multiply both intensities by that.\n",
    "\n",
    "\n",
    "    # Simulate x\n",
    "set_one_x = stats.poisson.rvs(150)\n",
    "\n",
    "    # Simulate x independent and identically distributed continuous uniform random variables inside area A\n",
    "\n",
    "x_axis_1 = np.linspace(0,1,set_one_x) # Independent and identically distributed.\n",
    "one_y_axis = stats.uniform.rvs(loc=0, scale=1, size=set_one_x) # Continuous uniform, also shouldn't be above the area!\n",
    "\n",
    "\n",
    "# Set 2--------------------------------------------------------------------\n",
    "\n",
    "    # Simulate x\n",
    "\n",
    "set_two_x = stats.poisson.rvs(75)\n",
    "\n",
    "x_axis_2 = np.linspace(0,1, set_two_x)\n",
    "\n",
    "    # Simulate x independent and identically distributed continuous uniform random variables inside area A\n",
    "\n",
    "two_y_axis = stats.uniform.rvs(loc=0, scale=1, size=set_two_x) # Continuous uniform\n",
    "\n",
    "# PLotting------------------------------------------------------------------\n",
    "\n",
    "\n",
    "fig, ax = plt.subplots()\n",
    "ax.bar(x_axis_1, one_y_axis, color='green')\n",
    "ax.bar(x_axis_2, two_y_axis, color='green')\n",
    "\n",
    "\n",
    "plt.show()\n",
    "\n",
    "print(\"Quick disclaimer that matplotlib artificially spaces out values so that the bars all fit on the y-axis-- values do not actually\")\n",
    "print(\" exceed 1 or go lower than 0.\")"
   ]
  },
  {
   "cell_type": "markdown",
   "metadata": {},
   "source": [
    "** Part B **: Distance-between-trees\n",
    "\n",
    "Take the set of points from the intensity $150$ figure in part $A$ and compute the minimum distance between *any* two points in the data set (hint: likely a loop or double-loop).  Use the standard Euclidean/Pythagorean distance, where for points $(x_1, y_1)$ and $(x_2, y_2)$ the distance between them is $$d=\\sqrt{(x_1-x_2)^2+(y_1-y_2)^2}$$\n",
    "\n",
    "Print that distance."
   ]
  },
  {
   "cell_type": "code",
   "execution_count": 3,
   "metadata": {},
   "outputs": [
    {
     "name": "stdout",
     "output_type": "stream",
     "text": [
      "The shortest distance was 0.007045787110484039, between points (0.7132867132867133, 0.6628910732939818) and (0.7202797202797203, 0.6620302776143815).\n"
     ]
    }
   ],
   "source": [
    "def min_distance(x_axis, y_axis):\n",
    "    \n",
    "    distance = 1000000 # Start off with some artificially huge distance.\n",
    "    \n",
    "    # For fun and profit.\n",
    "    \n",
    "    x_1 = \"fkldsg\"\n",
    "    x_2 = \"flkdjsjg\"\n",
    "    y_1 = \"sjfkldlkjg\"\n",
    "    y_2 = \"fjkldskjg\"\n",
    "    \n",
    "    for i in range(0, len(x_axis)):\n",
    "        for j in range(0, len(x_axis)):\n",
    "            \n",
    "            if(i != j):\n",
    "                distance_calc = pow((pow((x_axis[i] - x_axis[j]), 2) + pow((y_axis[i] - y_axis[j]), 2)), 0.5)\n",
    "            else:\n",
    "                distance_calc = 1000000000000000 # It's really great when the shortest distance is 0.0 when the point finds itself.\n",
    "            \n",
    "            if distance_calc < distance:\n",
    "                distance = distance_calc\n",
    "                \n",
    "                # A surprise tool that will help us later.\n",
    "                \n",
    "                x_1 = x_axis[i]\n",
    "                x_2 = x_axis[j]\n",
    "                y_1 = y_axis[i]\n",
    "                y_2 = y_axis[j]\n",
    "    \n",
    "    print(\"The shortest distance was \" + str(distance) + \", between points (\" + str(x_1) + \", \" + str(y_1) + \") and (\" + str(x_2) + \", \" +\n",
    "         str(y_2) + \").\")\n",
    "    \n",
    "\n",
    "min_distance(x_axis_1, one_y_axis)"
   ]
  },
  {
   "cell_type": "markdown",
   "metadata": {},
   "source": [
    "** Part C **: Distance-between-trees, fixed\n",
    "\n",
    "It turns out our intensity values of 150-200 trees per acre (an acre is $208.71 \\times 208.71$ feet) is pretty reasonable for a mature woodland.  So our original intensity values were *per acre*.  If you take your minimum linear-acre-distance and multiply it by 208.71, it should be now be feet between trees.  The result of this is that it is quite likely that some of our trees will be awkwardly close together.  Let's fix that!\n",
    "\n",
    "Take the data set from $$\\Lambda=150$$ and **thin** it by *removing* one (either) of the two points from the pair of closest points you found in part **B**.  Repeat until all your trees are at least 1.5 feet apart.\n",
    "\n",
    "Print how many trees were removed, and create another scatter plot of the resulting locations."
   ]
  },
  {
   "cell_type": "code",
   "execution_count": 4,
   "metadata": {},
   "outputs": [
    {
     "name": "stdout",
     "output_type": "stream",
     "text": [
      "We trimmed 2 trees. (This should line up with 2).\n"
     ]
    },
    {
     "data": {
      "image/png": "[encoded data removed]",
      "text/plain": [
       "<Figure size 432x288 with 1 Axes>"
      ]
     },
     "metadata": {
      "needs_background": "light"
     },
     "output_type": "display_data"
    }
   ],
   "source": [
    "# code for C\n",
    "\n",
    "def min_distance_2(x_axis, y_axis):\n",
    "    \n",
    "    \n",
    "    new_x_axis = []\n",
    "    new_y_axis = []\n",
    "    \n",
    "    trim_count = 0\n",
    "    \n",
    "    for i in range(0, len(x_axis)):\n",
    "        \n",
    "        distance = 1000000 # Start off with some artificially huge distance.\n",
    "        \n",
    "        for j in range(0, len(x_axis)):\n",
    "            \n",
    "            if(i != j):\n",
    "                distance_calc = pow((pow((x_axis[i] - x_axis[j]), 2) + pow((y_axis[i] - y_axis[j]), 2)), 0.5)\n",
    "            else:\n",
    "                distance_calc = 1000000000000000 # It's really great when the shortest distance is 0.0 when the point finds itself.\n",
    "            \n",
    "            \n",
    "            if distance_calc < distance:\n",
    "                distance = distance_calc\n",
    "            \n",
    "        \n",
    "        acre_dist = distance * 208.17\n",
    "        \n",
    "        if acre_dist >= 1.5:\n",
    "            new_x_axis.append(x_axis[i])\n",
    "            new_y_axis.append(y_axis[i])\n",
    "        else:\n",
    "            trim_count += 1\n",
    "                        \n",
    "    print(\"We trimmed \" + str(trim_count) + \" trees. (This should line up with \" + str(len(x_axis) - len(new_x_axis)) + \").\")\n",
    "    \n",
    "    plt.scatter(new_x_axis, new_y_axis, c = 'g')\n",
    "    plt.show()\n",
    "\n",
    "min_distance_2(x_axis_1, one_y_axis)"
   ]
  },
  {
   "cell_type": "markdown",
   "metadata": {},
   "source": [
    "** Part D **: Make a pretty picture!  If our goal is to describe actual terrain, we have to divide our region into areas of different intensities.  Your task here is to make a picture of a region with at least three different distinct subregions.  State clearly what $\\Lambda$ is in each region, then simulate Poisson processes and populate each region with trees.  You don't have to thin the regions as in part **C**, but you can if you wish.\n",
    "\n",
    "Your region should satisy the following properties:\n",
    "- You must have at least 3 sub-regions with non-zero $\\Lambda$.  $\\Lambda$ should vary by enough that we observe a visible difference between regions.\n",
    "- At least one region sub-division boundary should *not* be a straight vertical or horizontal line.  Use at least one sloped line or non-linear boundary.\n",
    "- Hint: It is recommended that you can easily compute the *areas* of subregions of your plot, since you'll need them for the rate of that region's Poisson distribution $\\lambda=A \\Lambda$.\n",
    "\n",
    "You will receive an extra 2 points if you *create your own region*, but if you do not wish to construct you own you may create simulations to fill in the plot below with trees."
   ]
  },
  {
   "cell_type": "code",
   "execution_count": 5,
   "metadata": {},
   "outputs": [
    {
     "data": {
      "text/plain": [
       "<matplotlib.collections.PathCollection at 0x7f6960ff8340>"
      ]
     },
     "execution_count": 5,
     "metadata": {},
     "output_type": "execute_result"
    },
    {
     "data": {
      "image/png": "[encoded data removed]",
      "text/plain": [
       "<Figure size 432x432 with 1 Axes>"
      ]
     },
     "metadata": {
      "needs_background": "light"
     },
     "output_type": "display_data"
    }
   ],
   "source": [
    "#Zach's picture, but without trees yet!  Add them or make your own and populate it.\n",
    "\n",
    "#region 1: treeless pond; #region 2: forest above lake; given by same function\n",
    "pond= lambda x: np.sqrt(1/4-x**2)\n",
    "\n",
    "#region 3: low density; #region 4: high density\n",
    "houses= lambda x: 1/2+np.sin(x*np.pi*4)/12\n",
    "\n",
    "fig, ax = plt.subplots(figsize=(6,6));\n",
    "ax.set_xlim(0,1)\n",
    "ax.set_ylim(0,1)\n",
    "\n",
    "xgrd=np.linspace(0,1/2,100)\n",
    "plt.vlines(.5, ymin=0, ymax=1)\n",
    "plt.plot(xgrd, pond(xgrd)) #plot lake\n",
    "plt.text(.1,.2, 'Lake, $\\Lambda$=0') #label pond\n",
    "ax.fill_between(xgrd, 0, pond(xgrd), color='blue', alpha=.3) # fill lake\n",
    "\n",
    "plt.text(.1,.8, 'Light woodland, $\\Lambda$=55')\n",
    "ax.fill_between(xgrd, 1, pond(xgrd), color='green', alpha=.08) # fill woodland\n",
    "\n",
    "xgrd2=np.linspace(1/2,1,100)\n",
    "plt.text(.55,.8, 'Ugly housing division, $\\Lambda$=12')\n",
    "ax.fill_between(xgrd2, 1, houses(xgrd2), color='red', alpha=.3) # fill right side housing area\n",
    "\n",
    "plt.text(.55,.2, 'Nice forest, $\\Lambda$=150')\n",
    "ax.fill_between(xgrd2, 0, houses(xgrd2), color='green', alpha=.5); # fill right side woodland\n",
    "\n",
    "# Plotting stuff-----------------------------------------------------------------------------------------------------------------------\n",
    "\n",
    "# Lake\n",
    "\n",
    "# The lake area doesn't matter since we're multiplying it by 0, but we'll need to calculate it for the Light woodland stuff later\n",
    "    # I took an integral on my own; the area of the pond is 0.196349540849\n",
    "\n",
    "lake_x = stats.poisson.rvs(0)\n",
    "\n",
    "\n",
    "lake_x_axis = np.linspace(0,0.5,lake_x) # NOTE: This is empty\n",
    "lake_y_axis = stats.uniform.rvs(loc=0, scale=1, size=lake_x_axis)\n",
    "\n",
    "\n",
    "# Nothing is plotted in the lake due to the Poisson value of 0.\n",
    "\n",
    "# Light woodland\n",
    "\n",
    "woodland_x = stats.poisson.rvs(55 * (0.5 - 0.196349540849))\n",
    "\n",
    "woodland_x_axis = np.linspace(0,0.5,woodland_x)\n",
    "woodland_y_axis = []\n",
    "\n",
    "for i in range(0, woodland_x):\n",
    "    new_value = stats.uniform.rvs(loc = 0, scale = 1, size = 1)\n",
    "    \n",
    "    while new_value < pond(woodland_x_axis[i]):\n",
    "        new_value = stats.uniform.rvs(loc = 0, scale = 1, size = 1)\n",
    "    \n",
    "    woodland_y_axis.append(new_value)\n",
    "\n",
    "ax.scatter(woodland_x_axis, woodland_y_axis, color = 'g')\n",
    "\n",
    "# Nice forest\n",
    "\n",
    "# The nice forest area is 0.25.\n",
    "\n",
    "forest_x = stats.poisson.rvs(150 * 0.25)\n",
    "\n",
    "forest_x_axis = np.linspace(0.5, 1, forest_x)\n",
    "forest_y_axis = []\n",
    "\n",
    "for i in range(0, forest_x):\n",
    "    new_value = stats.uniform.rvs(loc = 0, scale = 1, size = 1)\n",
    "    \n",
    "    while new_value > houses(forest_x_axis[i]):\n",
    "        new_value = stats.uniform.rvs(loc = 0, scale = 1, size = 1)\n",
    "    \n",
    "    forest_y_axis.append(new_value)\n",
    "\n",
    "ax.scatter(forest_x_axis, forest_y_axis, color = 'g')\n",
    "\n",
    "# Ugly housing division\n",
    "\n",
    "# Ugly housing division area is 0.25\n",
    "\n",
    "housing_x = stats.poisson.rvs(12 * 0.25)\n",
    "\n",
    "housing_x_axis = np.linspace(0.5, 1, housing_x)\n",
    "housing_y_axis = []\n",
    "\n",
    "for i in range(0, housing_x):\n",
    "    new_value = stats.uniform.rvs(loc = 0, scale = 1, size = 1)\n",
    "    \n",
    "    while new_value < houses(housing_x_axis[i]):\n",
    "        new_value = stats.uniform.rvs(loc = 0, scale = 1, size = 1)\n",
    "    \n",
    "    housing_y_axis.append(new_value)\n",
    "\n",
    "ax.scatter(housing_x_axis, housing_y_axis, color = 'g')"
   ]
  },
  {
   "cell_type": "markdown",
   "metadata": {},
   "source": [
    "**Part E**: Print out the areas of each of your regions in part **D**, their intensities, and their *expected* numbers of trees.  How does this compare with the exact numbers of trees generated by your simulations?"
   ]
  },
  {
   "cell_type": "code",
   "execution_count": 6,
   "metadata": {},
   "outputs": [
    {
     "name": "stdout",
     "output_type": "stream",
     "text": [
      "Lake Area = 0.196349540849\n",
      "Lake Intensity = 0\n",
      "Lake Expected Number of Trees = 0\n",
      "0 Trees Generated by Simulation\n",
      "\n",
      "Woodland Area = 0.303650459151\n",
      "Woodland Intensity = 55\n",
      "Woodland Expected Number of Trees = 16.700775253305\n",
      "16 Trees Generated by Simulation\n",
      "\n",
      "Nice Forest Area = 0.25\n",
      "Nice Forest Intensity = 150\n",
      "Nice Forest Expected Number of Trees = 37.5\n",
      "35 Trees Generated by Simulation\n",
      "\n",
      "Ugly Housing Division Area = 0.25\n",
      "Ugly Housing Division Intensity = 12\n",
      "Ugly Housing Division Expected Number of Trees = 3.0\n",
      "2 Trees Generated by Simulation\n",
      "\n"
     ]
    }
   ],
   "source": [
    "# code for E\n",
    "\n",
    "# NOTE: Area values gotten by integrating by hand.\n",
    "\n",
    "print(\"Lake Area = 0.196349540849\")\n",
    "print(\"Lake Intensity = 0\")\n",
    "print(\"Lake Expected Number of Trees = 0\")\n",
    "print(\"0 Trees Generated by Simulation\\n\")\n",
    "\n",
    "print(\"Woodland Area = \" + str((0.5 - 0.196349540849)))\n",
    "print(\"Woodland Intensity = 55\")\n",
    "print(\"Woodland Expected Number of Trees = \" + str((0.5 - 0.196349540849) * 55))\n",
    "print(str(woodland_x) + \" Trees Generated by Simulation\\n\")\n",
    "\n",
    "print(\"Nice Forest Area = \" + str(0.25))\n",
    "print(\"Nice Forest Intensity = 150\")\n",
    "print(\"Nice Forest Expected Number of Trees = \" + str(0.25 * 150))\n",
    "print(str(forest_x) + \" Trees Generated by Simulation\\n\")\n",
    "\n",
    "print(\"Ugly Housing Division Area = 0.25\")\n",
    "print(\"Ugly Housing Division Intensity = 12\")\n",
    "print(\"Ugly Housing Division Expected Number of Trees = \" + str(0.25 * 12))\n",
    "print(str(housing_x) + \" Trees Generated by Simulation\\n\")\n"
   ]
  },
  {
   "cell_type": "markdown",
   "metadata": {},
   "source": [
    "<br>\n",
    "\n",
    "---\n",
    "[Back to top](#top)\n",
    "<a id='p2'></a>\n",
    "\n",
    "## [60 points] Problem 2: An Intro to Computational Epidemiology"
   ]
  },
  {
   "attachments": {
    "SIR_Edges.png": {
     "image/png": "[encoded data removed]"
    },
    "SIR_Removal.png": {
     "image/png": "[encoded data removed]"
    }
   },
   "cell_type": "markdown",
   "metadata": {},
   "source": [
    "### The Model\n",
    "\n",
    "In this problem we introduce and begin to explore some of the baseline tools of computational epidemiology: the SIR and SI models.  \n",
    "\n",
    "These models exist on graphs, where vertices or nodes represent people, agents, or surfaces that might carry a communicable disease.  Edges connecting nodes represent nodes that are in close contact with one another, and at risk of exchanging the disease.  \n",
    "\n",
    "\n",
    "We will implement a variant of the SIR model.  In this model, each vertex has one of three possible states:\n",
    " - **I** for Infected, and at risk of passing the disease to neighboring susceptible vertices.\n",
    " - **S** for Susceptible, and at risk of becoming infected by its neighbors\n",
    " - **R** for removed, and no longer at risk of contracting or spreading the infection.\n",
    "\n",
    "The model evolves *iteratively*, where for each discrete time step (one unit of `time`) the following two calculations occur:\n",
    "\n",
    "** Step 1:** First, consider all **edges** that connect an infected person to a susceptible person.  The susceptible vertex becomes infected with independent and identical probability $\\beta$ *for each* edge that that connects them to an infected vertex.  This is depicted below in the SIR_Edges.png image.\n",
    "\n",
    "![SIR_Edges.png](attachment:SIR_Edges.png)\n",
    "\n",
    "A susceptible edge can only be infected once, and is only at risk of being infected by nodes that were infected (**I**) at the *start* of each iteration: newly infected nodes don't pass the infection onwards until the next time step.\n",
    "\n",
    "** Step 2: ** Next, consider all infected (**I**) **vertices** that were infected at the *start* of the time step - prior to step 1 - and consider them recovered **R** with probability $\\gamma$.  This is depicted below in the SIR_Removal.png image.\n",
    "\n",
    "![SIR_Removal.png](attachment:SIR_Removal.png)\n",
    "\n",
    "Think of this process as the probability of becoming well: not only are those ndoes no longer contagious, they also have developed antibodies that make them immune to re-infection!\n",
    "\n",
    "The model can run for any number of time steps, but for reasonably small graphs we might expect to see the number of infections taper off to zero after a while.  If you watched any news coverage during the onset of COVID-19, one of the main tasks in predicting a pandemic is predicting the *basic reproduction number* $R_0= \\frac{\\beta}{\\gamma}$ of the disease.  Since $\\beta$ represents a rate of spread and $\\gamma$ represents a rate of recovery, the ratio is important in determining whether a disease spreads faster than recovery can occur."
   ]
  },
  {
   "attachments": {
    "SIR_Warmup1.png": {
     "image/png": "[encoded data removed]"
    }
   },
   "cell_type": "markdown",
   "metadata": {},
   "source": [
    "### Warmups\n",
    "\n",
    "A couple of quick questions to make sure we're understanding the model and the roles of $\\beta$ and $\\gamma$.\n",
    "\n",
    "Feel free to use office hours/piazza to ask more pointed questions about the Warmups **only** to make sure you understand the basics of the transition model before you approach the implementation section later.\n",
    "\n",
    "**Part A**\n",
    "\n",
    "Suppose we have the small system depicted at time $t=0$ below, in SIR_Warmup1.png.\n",
    "\n",
    "![SIR_Warmup1.png](attachment:SIR_Warmup1.png)\n",
    "\n",
    "What is the exact probability that the last node on the right is an infected node **I** after exactly 3 time steps?  What is the exact probability that the leftmost node is still infected at this time?"
   ]
  },
  {
   "cell_type": "markdown",
   "metadata": {},
   "source": [
    "**Solution to Part A**:\n",
    "\n",
    "If it's three steps, then the chance of the last one being infected is $P(\\beta)^{3}$.\n",
    "\n",
    "Within three steps, the node can recover on the first step:\n",
    "\n",
    "$$P(\\gamma)$$\n",
    "\n",
    "the second step,\n",
    "\n",
    "$$(1 - P(\\gamma)) * P(\\gamma)$$\n",
    "\n",
    "or the step,\n",
    "\n",
    "$$(1 - P(\\gamma))^{2} * P(\\gamma)$$\n",
    "\n",
    "To determine how likely it is that the node is still *infected*, we subtract the sum of these values from 1.\n",
    "\n",
    "$$1 - (P(\\gamma) + (1 - P(\\gamma)) * P(\\gamma) + (1 - P(\\gamma))^{2} * P(\\gamma))$$"
   ]
  },
  {
   "attachments": {
    "SIR_Warmup2.png": {
     "image/png": "[encoded data removed]"
    }
   },
   "cell_type": "markdown",
   "metadata": {},
   "source": [
    "**Part B**\n",
    "\n",
    "Suppose we consider the alternative 4-vertex graph depicted below, in SIR_Warmup2.png.\n",
    "\n",
    "![SIR_Warmup2.png](attachment:SIR_Warmup2.png)\n",
    "\n",
    "What is the exact probability that we transition from the graph on the top to the exact graph on the bottom in a single time step?  Note that the \"center\" **S** node with two infected neighbors should be more likely to end up infected than rightmost node."
   ]
  },
  {
   "cell_type": "markdown",
   "metadata": {},
   "source": [
    "**Solution to Part B**: \n",
    "\n",
    "The chance that the leftmost node recovers = $P(\\gamma)$\n",
    "\n",
    "The chance that the upper-middle node gets infected = $P(\\beta)$\n",
    "\n",
    "The chance that the rightmost node gets infected = $P(\\beta)$\n",
    "\n",
    "The final thing is if the bottom node both gets infected and then recovers immediately. There are two ways this can happen:\n",
    "\n",
    "**First**, the upper-middle node infects it. $P(\\beta)$\n",
    "\n",
    "**Second**, the rightmost node infects it. $P(\\beta)$\n",
    "\n",
    "The recovery has a $P(\\gamma)$ chance regardless, so we'll add it.\n",
    "\n",
    "So, in total, the probability = $P(\\gamma) * P(\\beta) * P(\\beta) * (P(\\beta) + P(\\beta)) * P(\\gamma)$"
   ]
  },
  {
   "attachments": {
    "SIR_Graph.PNG": {
     "image/png": "[encoded data removed]"
    }
   },
   "cell_type": "markdown",
   "metadata": {},
   "source": [
    "### Coding The Model\n",
    "\n",
    "Enough with the exact pen-and-paper solutions!  Let's run this model.  Suppose we wish to implement the SIR model on the graph below (SIR_graph.png):\n",
    "\n",
    "![SIR_Graph.PNG](attachment:SIR_Graph.PNG)\n",
    "\n",
    "For your convenience, the two most common ways to represent this are listed below.  `edges` contains a list of each of the edges of the graph, and `neighbors` is a dictionary that contains the neighbors of each node (as a list of connected nodes).\n",
    "\n",
    "`nodes` holds the 21 vertices, labelled by their indexes 0 through 20.\n",
    "`neighbors` is a dictionary, where e.g. `neighbors[1]` holds the list of neighboring vertices to vertex #1."
   ]
  },
  {
   "cell_type": "code",
   "execution_count": 7,
   "metadata": {},
   "outputs": [
    {
     "name": "stdout",
     "output_type": "stream",
     "text": [
      "Node #  0  has neighbors of  [1, 2, 3]\n",
      "Node #  1  has neighbors of  [0, 2, 3, 16]\n",
      "Node #  2  has neighbors of  [0, 1, 3, 14]\n",
      "Node #  3  has neighbors of  [0, 1, 2, 5]\n",
      "Node #  4  has neighbors of  [5, 6, 10]\n",
      "Node #  5  has neighbors of  [4, 6, 3, 7]\n",
      "Node #  6  has neighbors of  [4, 5, 7]\n",
      "Node #  7  has neighbors of  [8, 9, 10, 5, 6, 13, 14]\n",
      "Node #  8  has neighbors of  [7, 9, 10]\n",
      "Node #  9  has neighbors of  [7, 8, 10]\n",
      "Node #  10  has neighbors of  [7, 8, 9, 4, 13]\n",
      "Node #  11  has neighbors of  [12, 13, 14, 15, 16]\n",
      "Node #  12  has neighbors of  [11, 13]\n",
      "Node #  13  has neighbors of  [11, 12, 14, 10, 7, 15]\n",
      "Node #  14  has neighbors of  [11, 13, 15, 2, 7]\n",
      "Node #  15  has neighbors of  [11, 14, 13]\n",
      "Node #  16  has neighbors of  [17, 18, 19, 1, 11]\n",
      "Node #  17  has neighbors of  [16, 19, 18]\n",
      "Node #  18  has neighbors of  [16, 19, 17, 20]\n",
      "Node #  19  has neighbors of  [16, 17, 18]\n",
      "Node #  20  has neighbors of  [18]\n"
     ]
    }
   ],
   "source": [
    "#manual edge assignments\n",
    "edges=[[0,1],[0,2],[0,3],[1,2],[1,3],[2,3],\\\n",
    "      [4,5],[4,6],[5,6],\\\n",
    "      [7,8],[7,9],[7,10],[8,9],[8,10],[9,10],\\\n",
    "      [11,12],[11,13],[11,14],[11,15],[12,13],[13,14],[14,15],\\\n",
    "      [16,17],[16,18],[16,19],[17,19],[18,19],[17,18],\\\n",
    "      [1,16],[2,14],[3,5],[5,7],[6,7],[4,10],[10,13],[7,13],[7,14],[13,15],[11,16],[18,20]]\n",
    "#create a dictionary as option\n",
    "nodes = list(range(21))\n",
    "neighbors={key: [] for key in range(len(nodes))} \n",
    "for edge in edges:\n",
    "    neighbors[edge[0]].append(edge[1])\n",
    "    neighbors[edge[1]].append(edge[0])\n",
    "    \n",
    "#other useful variables\n",
    "nodes = list(range(21))\n",
    "N = len(nodes)\n",
    "#Dictionary usage:\n",
    "for node in neighbors:\n",
    "    print('Node # ',node, ' has neighbors of ', neighbors[node])"
   ]
  },
  {
   "cell_type": "markdown",
   "metadata": {},
   "source": [
    "**Part C:**\n",
    "\n",
    "Implement a function **SIR_step(states, gamma, beta)** that takes one step of the SIR model with a known $\\beta$ and $\\gamma$ on the graph given above.\n",
    "\n",
    "* **initial_state** should be a list/numpy array of length 21 of the state of each vertex, e.g. ['S','S','I','I','R','S',...,'I'].\n",
    "* **gamma** is the constant determining recovery rate.\n",
    "* **beta** is the constant determining transmission rate.\n",
    "\n",
    "The return of the function should be the new states for each vertex, in the same format as **initial_state**.\n"
   ]
  },
  {
   "cell_type": "code",
   "execution_count": 8,
   "metadata": {},
   "outputs": [],
   "source": [
    "def SIR_step(initial_state, gamma, beta):\n",
    "    #Your code here\n",
    "    \n",
    "    new_state = list(range(0,21))\n",
    "    \n",
    "    for node_i in range(0, len(initial_state)): # Iterate through list\n",
    "        if initial_state[node_i] == \"I\": # Infected node, infect its neighbors first, and then see if it can recover. \n",
    "            \n",
    "            for nearby in neighbors[node_i]: # Note that we can only infect \"S\" nodes-- no double-infection or getting recovered nodes\n",
    "                if new_state[nearby] == \"S\":\n",
    "                    infection_roll = np.random.uniform(low=0, high=1, size=1)\n",
    "                                        \n",
    "                    if infection_roll < beta: # Infection gooooo\n",
    "                        new_state[nearby] = \"I\"\n",
    "            \n",
    "            recovery_roll = np.random.uniform(low=0, high=1, size=1)\n",
    "                        \n",
    "            if recovery_roll < gamma: # Recovered!\n",
    "                new_state[node_i] = \"R\"\n",
    "            else:\n",
    "                new_state[node_i] = \"I\" # Not recovered!\n",
    "            \n",
    "        else:\n",
    "            new_state[node_i] = initial_state[node_i]\n",
    "                \n",
    "    \n",
    "    return(new_state)"
   ]
  },
  {
   "cell_type": "markdown",
   "metadata": {},
   "source": [
    "Run a couple of quick sanity checks and self-checks below:\n",
    " - what should happen if `states` contains no **I** nodes?\n",
    " - what should happen if `states` contains **I** nodes but $\\beta=0$?\n"
   ]
  },
  {
   "cell_type": "code",
   "execution_count": 9,
   "metadata": {},
   "outputs": [
    {
     "name": "stdout",
     "output_type": "stream",
     "text": [
      "OUR CURRENT STATES:\n",
      "\n",
      "['S', 'S', 'S', 'S', 'S', 'S', 'S', 'S', 'S', 'S', 'S', 'S', 'S', 'S', 'S', 'S', 'S', 'S', 'S', 'S', 'S']\n",
      "['I', 'I', 'I', 'I', 'I', 'I', 'S', 'S', 'S', 'S', 'S', 'S', 'S', 'S', 'S', 'S', 'S', 'S', 'S', 'S', 'S']\n",
      "\n",
      "\n",
      "RUNNING SIMULATION ON EACH 5 TIMES...\n",
      "\n",
      "FINAL RESULTS:\n",
      "\n",
      "['S', 'S', 'S', 'S', 'S', 'S', 'S', 'S', 'S', 'S', 'S', 'S', 'S', 'S', 'S', 'S', 'S', 'S', 'S', 'S', 'S']\n",
      "['R', 'R', 'R', 'R', 'R', 'R', 'S', 'S', 'S', 'S', 'S', 'S', 'S', 'S', 'S', 'S', 'S', 'S', 'S', 'S', 'S']\n"
     ]
    }
   ],
   "source": [
    "#Check your code is working for those trivial cases:\n",
    "\n",
    "no_I_nodes = [] # This case should yield all S nodes.\n",
    "b_equals_zero = [\"I\", \"I\", \"I\", \"I\", \"I\", \"I\"] # This case should not yield any new I nodes.\n",
    "\n",
    "for i in range(0, 21):\n",
    "    no_I_nodes.append(\"S\")\n",
    "    \n",
    "    if i > 5: \n",
    "        b_equals_zero.append(\"S\")\n",
    "\n",
    "print(\"OUR CURRENT STATES:\\n\")\n",
    "print(no_I_nodes)\n",
    "print(b_equals_zero)\n",
    "\n",
    "print(\"\\n\")\n",
    "\n",
    "print(\"RUNNING SIMULATION ON EACH 5 TIMES...\\n\")\n",
    "\n",
    "for i in range(0, 5):\n",
    "    no_I_nodes = SIR_step(no_I_nodes, 0.25, 0.99) # Numbers don't mean anything.\n",
    "    b_equals_zero = SIR_step(b_equals_zero, 0.5, 0) # Numbers do mean things.\n",
    "    \n",
    "print(\"FINAL RESULTS:\\n\")\n",
    "print(no_I_nodes)\n",
    "print(b_equals_zero)"
   ]
  },
  {
   "cell_type": "markdown",
   "metadata": {},
   "source": [
    "**Part D:**\n",
    "\n",
    "Time to run the model for an initial set of states and describe what happens!  Suppose the initial states of each of the nodes is such that nodes 7, 13, and 18 are infected and the rest are susceptible.  Code for this is given below.\n",
    "\n",
    "Now we want to create a function or a loop that runs **SIR_step** for 500 time steps.  \n",
    "\n",
    "At the end of 500 steps, we will return only a tuple of two integers.  First, the total number of nodes that were infected over the course of the epidemic; and second, and the total days spent infected across all nodes.  These are two good measures of the severity of the epidemic!  When we take 500 steps, this represents *one* example of what could happen when an infection is set loose in a small (compartmental) environment.  As data scientists, we need to run this 500-step experiment multiple times to understand the overall descriptors of our simulated pandemic!\n",
    "\n",
    "Implement a function **SIR_sim(intial_state, gamma, beta, n_steps)** that takes *many* step of the SIR model with a known $\\beta$ and $\\gamma$ on the graph given above.  It should return the tuple of **(days_lost,people_infected)**\n",
    "\n",
    "* **initial_state** should be a list/numpy array of length 21 of the state of each vertex, e.g. ['S','S','I','I','R','S',...,'I'].\n",
    "* **gamma** is the constant determining recovery rate.\n",
    "* **beta** is the constant determining transmission rate.\n",
    "* **n_steps** is the number of steps.  It can be defaulted as 500.\n",
    "* The return **days_lost** is the number of cumulative days all people were infected.  After each call to **SIR_step**, you should increment this amount by the number of `I` entries in your state vector.\n",
    "* The return **people_infected** is the number of people that were infected into state `I` at any point in the simulation.\n"
   ]
  },
  {
   "cell_type": "code",
   "execution_count": 10,
   "metadata": {},
   "outputs": [],
   "source": [
    "#given initialization; 'states' has 18 'S' nodes and 3 'I' nodes\n",
    "states=np.array(['S']*21)\n",
    "infected_states=[7,12,18]\n",
    "for idx in infected_states:\n",
    "    states[idx]='I'\n",
    "\n",
    "def SIR_sim(gamma, beta, initial_state=states, n_steps=500):\n",
    "    #do the thing!\n",
    "    \n",
    "    people_infected = len(infected_states) # Initialization\n",
    "    \n",
    "    days_list = [] # We'll be using a list to show how many days each person/node was infected, and we'll sum up the days at the end.\n",
    "    \n",
    "    for i in initial_state:\n",
    "        if i == \"I\":\n",
    "            days_list.append(1)\n",
    "        else:\n",
    "            days_list.append(0)\n",
    "    \n",
    "    for i in range(0, n_steps):\n",
    "        \n",
    "        if i == 0: # To avoid error.\n",
    "            previous_step = initial_state\n",
    "        else:\n",
    "            previous_step = new_state\n",
    "        \n",
    "        \n",
    "        new_state = SIR_step(previous_step, gamma, beta) # Do a step\n",
    "        \n",
    "        # Compare the new and old states.\n",
    "        \n",
    "        #print(\"DAWN OF THE \" + str(i) + \" DAY:\")\n",
    "        #print(\"OLD--\")\n",
    "        #print(previous_step)\n",
    "        #print(\"NEW--\")\n",
    "        #print(new_state)\n",
    "        #print(\"\\n\")\n",
    "        \n",
    "        for j in range(0, len(new_state)):\n",
    "            # FIRST, add to days people have been infected.\n",
    "            \n",
    "            if new_state[j] == \"I\":\n",
    "                days_list[j] = days_list[j] + 1\n",
    "            \n",
    "            # NEXT, detect any changes from S to I. If they exist, update the people infected.\n",
    "            \n",
    "            if previous_step[j] == \"S\" and new_state[j] == \"I\":\n",
    "                people_infected += 1\n",
    "    \n",
    "    # End of the for loop.\n",
    "    \n",
    "    days_lost = sum(days_list)\n",
    "        \n",
    "    \n",
    "    return days_lost, people_infected\n"
   ]
  },
  {
   "cell_type": "markdown",
   "metadata": {},
   "source": [
    "**Part E:**\n",
    "\n",
    "Run your function in part D 100 times (so you'll have 100 instances of 500 time steps) *each* for 3 different sets of values of the constants $\\gamma$ and $\\beta$.  The three sets of conditions we should run experiments under are:\n",
    "\n",
    "* First, when the values of $\\gamma$ and $\\beta$ are each 0.05.\n",
    "* Second, when $\\beta=0.04$ and $\\gamma=0.06$.\n",
    "* Finally, when $\\beta=0.06$ and $\\gamma=0.04$.\n",
    "\n",
    "For each one of those 3 sets of experiments, report the average number of people infected and average number of days lost to infection."
   ]
  },
  {
   "cell_type": "code",
   "execution_count": 11,
   "metadata": {},
   "outputs": [
    {
     "name": "stdout",
     "output_type": "stream",
     "text": [
      "For beta = 0.05, and gamma = 0.05, lost 139.48 days between 7.48 people.\n",
      "For beta = 0.04, and gamma = 0.06, lost 97.86 days between 6.39 people.\n",
      "For beta = 0.06, and gamma = 0.04, lost 218.82 days between 8.8 people.\n"
     ]
    }
   ],
   "source": [
    "# FIRST -------------------------------------------\n",
    "\n",
    "DL = []\n",
    "PI = []\n",
    "\n",
    "for i in range(0, 100):\n",
    "    val1, val2 = SIR_sim(0.05, 0.05)\n",
    "    DL.append(val1)\n",
    "    PI.append(val2)\n",
    "    \n",
    "# Avg these values\n",
    "\n",
    "DL_avg = sum(DL) / len(DL)\n",
    "PI_avg = sum(PI) / len(PI)\n",
    "\n",
    "print(\"For beta = 0.05, and gamma = 0.05, lost \" + str(DL_avg) + \" days between \" + str(PI_avg) + \" people.\")\n",
    "\n",
    "# SECOND -------------------------------------------\n",
    "\n",
    "DL = []\n",
    "PI = []\n",
    "\n",
    "\n",
    "for i in range(0, 100):\n",
    "    val1, val2 = SIR_sim(0.06, 0.04)\n",
    "    DL.append(val1)\n",
    "    PI.append(val2)\n",
    "\n",
    "\n",
    "# Avg these values\n",
    "\n",
    "DL_avg = sum(DL) / len(DL)\n",
    "PI_avg = sum(PI) / len(PI)\n",
    "\n",
    "print(\"For beta = 0.04, and gamma = 0.06, lost \" + str(DL_avg) + \" days between \" + str(PI_avg) + \" people.\")\n",
    "\n",
    "# THIRD -------------------------------------------\n",
    "\n",
    "DL = []\n",
    "PI = []\n",
    "\n",
    "for i in range(0, 100):\n",
    "    val1, val2 = SIR_sim(0.04, 0.06)\n",
    "    DL.append(val1)\n",
    "    PI.append(val2)\n",
    "    \n",
    "\n",
    "# Avg these values\n",
    "\n",
    "DL_avg = sum(DL) / len(DL)\n",
    "PI_avg = sum(PI) / len(PI)\n",
    "\n",
    "print(\"For beta = 0.06, and gamma = 0.04, lost \" + str(DL_avg) + \" days between \" + str(PI_avg) + \" people.\")\n",
    "\n",
    "\n",
    "#recommended output style:\n",
    "\n",
    "# print('For beta=',beta,' and gamma=',gamma,' lost', days_lost  ,' days between ', people_infected, ' people')"
   ]
  },
  {
   "cell_type": "markdown",
   "metadata": {},
   "source": [
    "** Part F: **\n",
    "\n",
    "You should have observed that $\\beta=0.06$ and $\\gamma=0.04$ was the \"more dangerous\" variant of the infection, with an $$R_0=\\frac{\\beta}{\\gamma}$$ of 1.5.  We're going to explore the concept of *social distancing*, which public health authorities suggest includes attempting to limit cross-household exposure to contagion.  Scroll up and take a look at the manual edge assignments code from part **B**: pay attention to the line breaks.  This synthetic data is meant to represent 5 close-knit units/families: [0-3], [4-6],[7-10],[11-15],[16-19] and then a collection of edges between those units in the last line.  The goal of social distancing is to remove as many of the between-unit edges from the graph as possible.\n",
    "\n",
    "Suppose that under social distancing, each inter-family edge is removed (independentally) with probability .5.\n",
    "\n",
    "Recreate your code from parts **B**, **C**, **D**, and **E** and create a **SIR_sim_distanced** function to simulate 500 steps of an **SIR_step** function.  \n",
    "\n",
    "Implement a function **SIR_sim(intial_state, gamma, beta, n_steps)** that takes *many* step of the SIR model with a known $\\beta$ and $\\gamma$.  It should return the tuple of **(days_lost,people_infected)**\n",
    "\n",
    "* **initial_state** should be a list/numpy array of length 21 of the state of each vertex, e.g. ['S','S','I','I','R','S',...,'I'].\n",
    "* **gamma** is the constant determining recovery rate.\n",
    "* **beta** is the constant determining transmission rate.\n",
    "* **n_steps** is the number of steps.  It can be defaulted as 500.\n",
    "* The return **days_lost** is the number of cumulative days all people were infected.  After each call to **SIR_step**, you should increment this amount by the number of `I` entries in your state vector.\n",
    "* The return **people_infected** is the number of people that were infected into state `I` at any point in the simulation.\n",
    "* **Before** any **SIR_step** calls, evaluate each edge in the list of inter-family connections.  [[1,16],[2,14],[3,5],[5,7],[6,7],[4,10],[10,13],[7,13],[7,14],[13,15],[11,16],[18,20]] and *discard it* from the simulation with probability .5.  Use the resulting graph for your simulation.  Note that this may mean you need to input a graph $G$ into **SIR_step**, since each simulation may have different inter-unit edges removed.  Alternatively, you could redefine **SIR_step** inside your **SIR_sim** to account for the changes in the graph's edges.\n",
    "\n",
    "Report the resulting average number of people infected and average number of days lost to infection under the $\\beta=0.06$ and $\\gamma=0.04$ parameter values.  Did this amount of social distancing seem to work?\n"
   ]
  },
  {
   "cell_type": "code",
   "execution_count": 12,
   "metadata": {},
   "outputs": [
    {
     "name": "stdout",
     "output_type": "stream",
     "text": [
      "For beta = 0.05, and gamma = 0.05, lost 87.45 days between 4.6 people.\n",
      "For beta = 0.04, and gamma = 0.06, lost 62.85 days between 4.23 people.\n",
      "For beta = 0.06, and gamma = 0.04, lost 137.83 days between 5.04 people.\n"
     ]
    }
   ],
   "source": [
    "#some setup for convenience\n",
    "fam_edges=[[0,1],[0,2],[0,3],[1,2],[1,3],[2,3],\\\n",
    "      [4,5],[4,6],[5,6],\\\n",
    "      [7,8],[7,9],[7,10],[8,9],[8,10],[9,10],\\\n",
    "      [11,12],[11,13],[11,14],[11,15],[12,13],[13,14],[14,15],\\\n",
    "      [16,17],[16,18],[16,19],[17,19],[18,19],[17,18]]\n",
    "interfam_edges=[[1,16],[2,14],[3,5],[5,7],[6,7],[4,10],[10,13],[7,13],[7,14],[13,15],[11,16],[18,20]]\n",
    "\n",
    "#now re-run things with less edges!\n",
    "\n",
    "def SIR_step_2(initial_state, gamma, beta, edges):\n",
    "    #Your code here\n",
    "    \n",
    "    # Borrowed code from earlier\n",
    "    \n",
    "    neighbors={key: [] for key in range(len(initial_state))} \n",
    "    for edge in edges:\n",
    "        neighbors[edge[0]].append(edge[1])\n",
    "        neighbors[edge[1]].append(edge[0])\n",
    "    \n",
    "    # End of borrowed code.\n",
    "    \n",
    "    new_state = list(range(0,21))\n",
    "    \n",
    "    for node_i in range(0, len(initial_state)): # Iterate through list\n",
    "        if initial_state[node_i] == \"I\": # Infected node, infect its neighbors first, and then see if it can recover. \n",
    "            \n",
    "            for nearby in neighbors[node_i]: # Note that we can only infect \"S\" nodes-- no double-infection or getting recovered nodes\n",
    "                if new_state[nearby] == \"S\":\n",
    "                    infection_roll = np.random.uniform(low=0, high=1, size=1)\n",
    "                                        \n",
    "                    if infection_roll < beta: # Infection gooooo\n",
    "                        new_state[nearby] = \"I\"\n",
    "            \n",
    "            recovery_roll = np.random.uniform(low=0, high=1, size=1)\n",
    "                        \n",
    "            if recovery_roll < gamma: # Recovered!\n",
    "                new_state[node_i] = \"R\"\n",
    "            else:\n",
    "                new_state[node_i] = \"I\" # Not recovered!\n",
    "            \n",
    "        else:\n",
    "            new_state[node_i] = initial_state[node_i]\n",
    "                \n",
    "    \n",
    "    return(new_state)\n",
    "\n",
    "def SIR_sim_2(gamma, beta, initial_state=states, n_steps = 500):\n",
    "    \n",
    "    people_infected = len(infected_states) # Initialization\n",
    "    edges_updated = fam_edges\n",
    "    \n",
    "    days_list = [] # We'll be using a list to show how many days each person/node was infected, and we'll sum up the days at the end.\n",
    "    \n",
    "    for i in initial_state:\n",
    "        if i == \"I\":\n",
    "            days_list.append(1)\n",
    "        else:\n",
    "            days_list.append(0)\n",
    "            \n",
    "    \n",
    "    for i in range(0, n_steps):\n",
    "        \n",
    "        if i == 0: # To avoid error.\n",
    "            previous_step = initial_state\n",
    "        else:\n",
    "            previous_step = new_state\n",
    "            \n",
    "        # NEW -- CHECK FOR FAMILY EDGES.\n",
    "\n",
    "        for j in range(0, len(interfam_edges)):\n",
    "            \n",
    "            social_distancing = np.random.uniform(low=0, high=1, size=1)\n",
    "                \n",
    "            if social_distancing < 0.5 and interfam_edges[j] in edges_updated: # We will social distance. Cut off interfam edges.\n",
    "                edges_updated = edges_updated.remove(interfam_edges[j])\n",
    "                                \n",
    "    \n",
    "        # END -- EVERYTHING ELSE I JUST COPY-PASTED.\n",
    "        \n",
    "        \n",
    "        new_state = SIR_step_2(previous_step, gamma, beta, edges_updated) # Do a step\n",
    "        \n",
    "        # Compare the new and old states.\n",
    "        \n",
    "        for j in range(0, len(new_state)):\n",
    "            # FIRST, add to days people have been infected.\n",
    "            \n",
    "            if new_state[j] == \"I\":\n",
    "                days_list[j] = days_list[j] + 1\n",
    "            \n",
    "            # NEXT, detect any changes from S to I. If they exist, update the people infected.\n",
    "            \n",
    "            if previous_step[j] == \"S\" and new_state[j] == \"I\":\n",
    "                people_infected += 1\n",
    "    \n",
    "    # End of the for loop.\n",
    "    \n",
    "    days_lost = sum(days_list)\n",
    "        \n",
    "    \n",
    "    return days_lost, people_infected\n",
    "\n",
    "\n",
    "# TEST STUFF ---------------------------------------------------------------------------------------------------------------------------------------------------\n",
    "\n",
    "DL = []\n",
    "PI = []\n",
    "\n",
    "for i in range(0, 100):\n",
    "    val1, val2 = SIR_sim_2(0.05, 0.05)\n",
    "    DL.append(val1)\n",
    "    PI.append(val2)\n",
    "    \n",
    "# Avg these values\n",
    "\n",
    "DL_avg = sum(DL) / len(DL)\n",
    "PI_avg = sum(PI) / len(PI)\n",
    "\n",
    "print(\"For beta = 0.05, and gamma = 0.05, lost \" + str(DL_avg) + \" days between \" + str(PI_avg) + \" people.\")\n",
    "\n",
    "# SECOND -------------------------------------------\n",
    "\n",
    "DL = []\n",
    "PI = []\n",
    "\n",
    "\n",
    "for i in range(0, 100):\n",
    "    val1, val2 = SIR_sim_2(0.06, 0.04)\n",
    "    DL.append(val1)\n",
    "    PI.append(val2)\n",
    "\n",
    "\n",
    "# Avg these values\n",
    "\n",
    "DL_avg = sum(DL) / len(DL)\n",
    "PI_avg = sum(PI) / len(PI)\n",
    "\n",
    "print(\"For beta = 0.04, and gamma = 0.06, lost \" + str(DL_avg) + \" days between \" + str(PI_avg) + \" people.\")\n",
    "\n",
    "# THIRD -------------------------------------------\n",
    "\n",
    "DL = []\n",
    "PI = []\n",
    "\n",
    "for i in range(0, 100):\n",
    "    val1, val2 = SIR_sim_2(0.04, 0.06)\n",
    "    DL.append(val1)\n",
    "    PI.append(val2)\n",
    "    \n",
    "\n",
    "# Avg these values\n",
    "\n",
    "DL_avg = sum(DL) / len(DL)\n",
    "PI_avg = sum(PI) / len(PI)\n",
    "\n",
    "print(\"For beta = 0.06, and gamma = 0.04, lost \" + str(DL_avg) + \" days between \" + str(PI_avg) + \" people.\")"
   ]
  },
  {
   "cell_type": "markdown",
   "metadata": {},
   "source": [
    "**Part G: **\n",
    "\n",
    "Comment on anything you found interesting or unusual."
   ]
  },
  {
   "cell_type": "markdown",
   "metadata": {},
   "source": [
    "I ran the exact same tests as I did on the first part to demonstrate the code.\n",
    "\n",
    "The days got a lot less and the people did too, though after implementing social distancing, the people infected seemed to hone in on 4 or so (which is half of the worst case in the first one).\n",
    "\n",
    "Even higher infection rates didn't drastically increase the people infected either-- it stayed relatively in the same ballpark of 4-6 when I ran it multiple times."
   ]
  },
  {
   "cell_type": "markdown",
   "metadata": {},
   "source": [
    "Computational epidemiology is a huge field, and models can add all kinds of added components: nodes could be surfaces *or* people, graphs could be representing cities or communities instead of individuals, etc.  One similar model is used instead for diseases that don't ever have **R** states: nodes just transition from **I** to **S** because there may be no long-term immunity after infection.\n",
    "\n",
    "If you're ever interested in learning more about computational epidemiology, CU-Boulder has a couple of world experts in network-based epidemology and computational public health.  Check out the CS department's course offerings by Aaron Clauset, Dan Larremore, and others for great opportunities to do these sorts of things in a more advanced setting.\n",
    "\n",
    "<br>\n",
    "\n",
    "---\n",
    "[Back to top](#top)\n",
    "<a id='bot'></a>"
   ]
  },
  {
   "cell_type": "markdown",
   "metadata": {},
   "source": [
    "### Appendix: Graph plotting code"
   ]
  },
  {
   "cell_type": "code",
   "execution_count": 13,
   "metadata": {},
   "outputs": [
    {
     "data": {
      "image/png": "[encoded data removed]",
      "text/plain": [
       "<Figure size 432x288 with 1 Axes>"
      ]
     },
     "metadata": {},
     "output_type": "display_data"
    }
   ],
   "source": [
    "#here's the code to generate the given plot.  It is not needed for any of your tasks,\n",
    "#...but if you're interested in including some visualizations in your analysis in parts F/G you can\n",
    "#create the graph in networkx\n",
    "import networkx as nx\n",
    "\n",
    "G=nx.Graph()\n",
    "nodes=[i for i in range(21)]\n",
    "G.add_nodes_from(nodes)\n",
    "for i in range(len(edges)):\n",
    "    G.add_edge(edges[i][0],edges[i][1])\n",
    "\n",
    "#plot the graph\n",
    "np.random.seed(6) #graph plotting algorithm is random; this ensures same image each time\n",
    "pos = nx.spring_layout(G) #algorithm that tries to \"cluster\" node plot locations\n",
    "colors=[0,0,0,0,1,1,1,2,2,2,2,3,3,3,3,3,4,4,4,4,5] #manual \"family\" groupings\n",
    "labels=dict(zip(range(21),range(21))); #label 0-20\n",
    "nx.draw_networkx_nodes(G, pos, node_color=colors, cmap='Pastel1', node_size=500, alpha=.75); #node colors easy to see labels over\n",
    "nx.draw_networkx_edges(G, pos, width=1.0, alpha=0.8); #draw edges\n",
    "nx.draw_networkx_labels(G, pos, labels, font_size=16); #label vertices by index/number\n",
    "plt.axis(\"off\");\n"
   ]
  },
  {
   "cell_type": "code",
   "execution_count": 14,
   "metadata": {},
   "outputs": [
    {
     "data": {
      "image/png": "[encoded data removed]",
      "text/plain": [
       "<Figure size 432x288 with 1 Axes>"
      ]
     },
     "metadata": {},
     "output_type": "display_data"
    }
   ],
   "source": [
    "#replace \"S\" with yellow, \"R\" with green, \"I\" with red for a quick \"who is at risk?\" type image.\n",
    "state_colors=['red' if x == 'I' else 'yellow' if x=='S' else 'green' for x in states]\n",
    "pos = nx.spring_layout(G) #algorithm that tries to \"cluster\" node plot locations\n",
    "\n",
    "nx.draw_networkx_nodes(G, pos, node_color=state_colors, node_size=500);\n",
    "nx.draw_networkx_edges(G, pos, width=1.0, alpha=0.5);\n",
    "nx.draw_networkx_labels(G, pos, labels, font_size=16);\n",
    "plt.axis(\"off\");"
   ]
  },
  {
   "cell_type": "code",
   "execution_count": null,
   "metadata": {},
   "outputs": [],
   "source": []
  }
 ],
 "metadata": {
  "kernelspec": {
   "display_name": "Python 3",
   "language": "python",
   "name": "python3"
  },
  "language_info": {
   "codemirror_mode": {
    "name": "ipython",
    "version": 3
   },
   "file_extension": ".py",
   "mimetype": "text/x-python",
   "name": "python",
   "nbconvert_exporter": "python",
   "pygments_lexer": "ipython3",
   "version": "3.8.6"
  }
 },
 "nbformat": 4,
 "nbformat_minor": 4
}
